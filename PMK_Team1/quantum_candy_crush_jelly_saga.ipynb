{
 "cells": [
  {
   "cell_type": "markdown",
   "metadata": {},
   "source": [
    "## Title: Candy crush jelly saga, the quantum way!"
   ]
  },
  {
   "cell_type": "markdown",
   "metadata": {},
   "source": [
    "The goal of this exercise is to show that the puffler mode in candy crush jelly saga possesses some quantum weirdness,\n",
    " and can be implemented on a quantum computer by taking advantage of quantum interference.\n",
    " \n",
    "* The general rule is that the puffler hides in the frosting and one must crack it in order to rescue the puffler.\n",
    "* The initial state of the puffler is |0> and can be seen as hiding under the frosting\n",
    "* The end goal is to obtain the |1> state where this corresponds to you rescuing the puffler; but wait, be cautious as the puffler behaves \n",
    "  in weird manner quantum mechanically!\n"
   ]
  },
  {
   "cell_type": "code",
   "execution_count": null,
   "metadata": {},
   "outputs": [],
   "source": [
    "import numpy as np\n",
    "# Importing standard Qiskit libraries\n",
    "import qiskit as q\n",
    "from qiskit import *\n",
    "from qiskit import QuantumCircuit, transpile, Aer, IBMQ\n",
    "from qiskit.tools.jupyter import *\n",
    "from qiskit.visualization import *\n",
    "from ibm_quantum_widgets import *\n",
    "import matplotlib as plt\n",
    "\n",
    "%matplotlib inline\n",
    "\n",
    "# Loading your IBM Q account(s)\n",
    "provider = IBMQ.load_account()\n",
    "\n",
    "c30ba4315358dc0863f00d0630c11513ae13324d6be1aab4341693c2c337f43a67f7b52bd71b5c182bc89b167ba4cd9dcebaae665e1a60cc6b7f6df9ab42bc57"
   ]
  },
  {
   "cell_type": "code",
   "execution_count": null,
   "metadata": {},
   "outputs": [],
   "source": [
    "# Create a circuit with the puffler initially in the |0> state. \n",
    "\n",
    "qp = q.QuantumCircuit(1, 1)\n",
    "\n",
    "qp.barrier()\n",
    "\n",
    "display(qp.draw('mpl'))"
   ]
  },
  {
   "cell_type": "code",
   "execution_count": null,
   "metadata": {},
   "outputs": [],
   "source": [
    "# 1. Show that after making the first move, the puffler remains hiden and there's no change of the puffler's inital state\n",
    "\n",
    "qp.measure(0, 0)"
   ]
  },
  {
   "cell_type": "code",
   "execution_count": null,
   "metadata": {},
   "outputs": [],
   "source": [
    "# 2. After the second move, the puffler is revealed partially; quantum mechanically it said to be in a superposition. \n",
    "# create this new state of the puffler and get (confirm) it's vector state; H|0>=|+>\n",
    "\n",
    "qp.h(0)\n",
    "\n",
    "backend = Aer.get_backend('statevector_simulator') \n",
    "job = q.execute(qp, backend)  \n",
    "result = job.result()\n",
    "statevector = result.get_statevector(qp)\n",
    "print(statevector)                         # This should print the |+>=1/sqrt(2)*(|0>+|1>)\n"
   ]
  },
  {
   "cell_type": "code",
   "execution_count": null,
   "metadata": {},
   "outputs": [],
   "source": [
    "# 2.1 The puffler has a tendency of hiding again if there blocks all around it are still covered in frosting.\n",
    "# Apply the necessary gates to demostrate that the puffler has some quantum weirdness going on with it.\n",
    "\n",
    "qp.barrier()\n",
    "\n",
    "# That is, due to decoherence, the previous superposition is collapsed back into the |0> state; do the operation, H|+>=|0>\n",
    "# This is the same as applying the H-gate twice to the |0>, which happens to do nothing this state (same as point 1)\n",
    "\n",
    "qp.h(0)\n",
    "\n",
    "# Now confirm that the statevector_at this point is as expected, i.e., it is |0>\n",
    "\n",
    "backend = Aer.get_backend('statevector_simulator') \n",
    "job = q.execute(qp, backend)  \n",
    "result = job.result()\n",
    "statevector = result.get_statevector(qp)\n",
    "print(statevector)                          # This should print the |0> state \n"
   ]
  },
  {
   "cell_type": "code",
   "execution_count": null,
   "metadata": {},
   "outputs": [],
   "source": [
    "# 2.2 If most of the frosting has been cracked but the puffler is still partially revealed (superposition),\n",
    "# the player can make a move(s) to crack the remaining frosting and collect it.\n",
    "# This can be done by demostrating quantum interference!\n",
    "\n",
    "qp.barrier()\n",
    "\n",
    "qp.z(0)                        # This should change the |+> state (superposition from point 2.) into the |-> state\n",
    "qp.h(0)                        # This should finally rescue the puffler (|1>)\n",
    "\n",
    "# Double check that the statevector of the puffer is now |1>\n",
    "\n",
    "backend = Aer.get_backend('statevector_simulator') \n",
    "job = q.execute(qp, backend)  \n",
    "result = job.result()\n",
    "statevector = result.get_statevector(qp)\n",
    "print(statevector)                          # This should print the |1> state."
   ]
  },
  {
   "cell_type": "code",
   "execution_count": null,
   "metadata": {},
   "outputs": [],
   "source": [
    "# 3. Suppose the puffler is in the initial state, show that you can to rescue the puffler in just one move (one quantum operation)\n",
    "\n",
    "qp.barrier()\n",
    "\n",
    "qp.x(0)\n",
    "\n",
    "# Make a measurement and change from the statevector_simulator to the qasm_simulator\n",
    "\n",
    "backend = Aer.get_backend('qasm_simulator') \n",
    "job = execute(circ_psiminus, backend, shots = 1024)  \n",
    "result = job.result()\n",
    "counts = result.get_counts(qp)  \n",
    "graph = plot_histogram(counts)\n",
    "display(graph)                               # This should print the |1> state with 100% probability"
   ]
  },
  {
   "cell_type": "markdown",
   "metadata": {},
   "source": [
    "Congratulation of rescuing the poor puffler from the freezing frosting!! "
   ]
  }
 ],
 "metadata": {
  "kernelspec": {
   "display_name": "",
   "name": ""
  },
  "language_info": {
   "name": ""
  }
 },
 "nbformat": 4,
 "nbformat_minor": 4
}
