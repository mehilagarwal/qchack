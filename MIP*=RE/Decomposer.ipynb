{
 "cells": [
  {
   "cell_type": "code",
   "execution_count": 2,
   "id": "simplified-reservoir",
   "metadata": {},
   "outputs": [],
   "source": [
    "import cirq\n",
    "import numpy as np\n",
    "import itertools"
   ]
  },
  {
   "cell_type": "code",
   "execution_count": 3,
   "id": "lesbian-armstrong",
   "metadata": {},
   "outputs": [
    {
     "data": {
      "text/plain": [
       "matrix([[0, 0, 0, 0, 0, 0, 0, 1],\n",
       "        [0, 0, 0, 0, 0, 0, 1, 0],\n",
       "        [0, 0, 0, 0, 0, 1, 0, 0],\n",
       "        [0, 0, 0, 0, 1, 0, 0, 0],\n",
       "        [0, 0, 0, 1, 0, 0, 0, 0],\n",
       "        [0, 0, 1, 0, 0, 0, 0, 0],\n",
       "        [0, 1, 0, 0, 0, 0, 0, 0],\n",
       "        [1, 0, 0, 0, 0, 0, 0, 0]])"
      ]
     },
     "execution_count": 3,
     "metadata": {},
     "output_type": "execute_result"
    }
   ],
   "source": [
    "def PauliOperator(label):\n",
    "    \"\"\"Generates a specified Pauli operator\n",
    "    \n",
    "    Parameters:\n",
    "        label (str): Pauli operator label (e.g. 'ZZZZIIIX')\n",
    "        \n",
    "    Returns:\n",
    "        numpy matrix of corresponding Pauli operator\n",
    "    \"\"\"\n",
    "    pauli = {\n",
    "        'I': np.matrix([[1,0],[0,1]]),\n",
    "        'Z': np.matrix([[1,0],[0,-1]]),\n",
    "        'X': np.matrix([[0,1],[1,0]]),\n",
    "        'Y': np.matrix([[0,-1j],[1j,0]])\n",
    "    }\n",
    "    \n",
    "    operator = pauli[label[0]]\n",
    "    for letter in label[1:]:\n",
    "        operator = np.kron(operator, pauli[letter])\n",
    "\n",
    "    return operator\n",
    "\n",
    "#PauliOperator('XXX')"
   ]
  },
  {
   "cell_type": "code",
   "execution_count": 4,
   "id": "given-madrid",
   "metadata": {},
   "outputs": [
    {
     "data": {
      "text/plain": [
       "{'I': 0.0, 'X': 1.0, 'Y': 0j, 'Z': 1.0}"
      ]
     },
     "execution_count": 4,
     "metadata": {},
     "output_type": "execute_result"
    }
   ],
   "source": [
    "def PauliDecompose(hmat):\n",
    "    \"\"\"Decompose a Hermitian matrix into a sum of Pauli matrices\n",
    "    \n",
    "    Parameters:\n",
    "        hmat (matrix): hermitian matrix to decompose\n",
    "        \n",
    "    Returns:\n",
    "        dictionary of {Pauli matrix(str) : coefficient (float)}\n",
    "    \"\"\"\n",
    "    coeff = {}\n",
    "    nbits = int(np.log2(hmat.shape[0]))\n",
    "    labels = itertools.product('IXYZ', repeat=nbits)\n",
    "    labels = [''.join(i) for i in labels] \n",
    "    for label in labels:\n",
    "        tmp = np.matmul(hmat, PauliOperator(label))\n",
    "        coeff[label] = np.trace(tmp) / hmat.shape[0]\n",
    "    \n",
    "    return coeff\n",
    "\n",
    "# demo\n",
    "PauliDecompose(PauliOperator('X') + PauliOperator('Z'))"
   ]
  },
  {
   "cell_type": "code",
   "execution_count": 5,
   "id": "sudden-knight",
   "metadata": {},
   "outputs": [
    {
     "name": "stdout",
     "output_type": "stream",
     "text": [
      "0: ───I───Rz(-π)───\n",
      "\n",
      "1: ───I────────────\n"
     ]
    }
   ],
   "source": [
    "def UGate(umat):\n",
    "    \"\"\"Realises the specified unitary digonal matrix in a Cirq quantum cricuit\n",
    "    \n",
    "    Parameters:\n",
    "        umat (matrix): unitary diagonal matrix to realise\n",
    "        \n",
    "    Returns:\n",
    "        QuantumCircuit which implements the unitary\n",
    "    \"\"\"\n",
    "    #Check input\n",
    "    nbits = np.log2(umat.shape[0])\n",
    "    if umat.shape[0] != umat.shape[1] or not nbits.is_integer:\n",
    "        raise Exception('Matrix has incorrect dimensions')\n",
    "    elif not np.allclose(np.matmul(umat,np.conj(umat)), np.identity(umat.shape[0])):\n",
    "        raise Exception('Matrix is not unitary')\n",
    "    elif not np.allclose(umat, np.diag(np.diagonal(umat))):\n",
    "        raise Exception('matrix is not diagonal')\n",
    "    nbits = int(nbits) #n classical bits 1 < n < 8\n",
    "    \n",
    "    \n",
    "    # Pauli Decompose \n",
    "    hmat = np.angle(umat) #Tells us the complex argument of the matrix, thereby parameterizing the circuit\n",
    "    components = PauliDecompose(hmat) #Decomposing the circuit according to the decomposing method\n",
    "    \n",
    "    # order to implement Pauli component (reduces CNOTs used)\n",
    "    # iteratively add each pauli component\n",
    "    \n",
    "    #Define the qubits in Cirq\n",
    "    circuit = cirq.Circuit()\n",
    "    \n",
    "    \n",
    "    circuit.append(cirq.I(q) for q in cirq.LineQubit.range(nbits))\n",
    "    \n",
    "    \n",
    "    for operator, coeff in components.items():\n",
    "        #find qubits CX-RZ-CX\n",
    "        cxlist = []\n",
    "        for i in range(len(operator)):\n",
    "            cxlist.append(i) if operator[i] == 'Z' else None\n",
    "        cxlist = [nbits - 1 - i for i in cxlist]\n",
    "        if coeff == 0 or len(cxlist) == 0:\n",
    "            continue\n",
    "        elif len(cxlist) == 1:           \n",
    "            circuit.append(cirq.ops.rz(-2*coeff).on(cirq.LineQubit(cxlist[0])))\n",
    "        else: \n",
    "            # print(cxlist)\n",
    "            # print(type(cxlist))\n",
    "            for ctrl in cxlist[:-1]:\n",
    "                target, control = cirq.LineQubit(cxlist[-1]), cirq.LineQubit(ctrl)\n",
    "                # print(target, control)\n",
    "                cnot = cirq.CNOT(control=control, target=target)\n",
    "                circuit.append( cnot )\n",
    "            circuit.append(cirq.ops.rz(-2*coeff).on(cirq.LineQubit(cxlist[-1])))\n",
    "            for ctrl in reversed(cxlist[:-1]):\n",
    "                circuit.append(cirq.ops.CNOT(control=cirq.LineQubit(ctrl), target=cirq.LineQubit(cxlist[-1])))\n",
    "    return circuit  \n",
    "                    \n",
    "#Testing!\n",
    "ckt = UGate(np.diag([-1,1,-1,1]))\n",
    "print(ckt)"
   ]
  },
  {
   "cell_type": "code",
   "execution_count": 13,
   "id": "accompanied-folks",
   "metadata": {},
   "outputs": [
    {
     "name": "stdout",
     "output_type": "stream",
     "text": [
      "0: ───I───Rz(-π)───\n",
      "\n",
      "1: ───I────────────\n"
     ]
    }
   ],
   "source": [
    "def Ugate_Sycamore(umat):\n",
    "    \"\"\"Realises the specified unitary digonal matrix in a Cirq quantum cricuit\n",
    "    \n",
    "    Parameters:\n",
    "        umat (matrix): unitary diagonal matrix to realise\n",
    "        \n",
    "    Returns:\n",
    "        QuantumCircuit which implements the unitary\n",
    "    \"\"\"\n",
    "    #Check input\n",
    "    nbits = np.log2(umat.shape[0])\n",
    "    if umat.shape[0] != umat.shape[1] or not nbits.is_integer:\n",
    "        raise Exception('Matrix has incorrect dimensions')\n",
    "    elif not np.allclose(np.matmul(umat,np.conj(umat)), np.identity(umat.shape[0])):\n",
    "        raise Exception('Matrix is not unitary')\n",
    "    elif not np.allclose(umat, np.diag(np.diagonal(umat))):\n",
    "        raise Exception('matrix is not diagonal')\n",
    "    nbits = int(nbits) #n classical bits 1 < n < 8\n",
    "    \n",
    "    \n",
    "    # Pauli Decompose \n",
    "    hmat = np.angle(umat) #Tells us the complex argument of the matrix, thereby parameterizing the circuit\n",
    "    components = PauliDecompose(hmat) #Decomposing the circuit according to the decomposing method\n",
    "    \n",
    "    # order to implement Pauli component (reduces CNOTs used)\n",
    "    # iteratively add each pauli component\n",
    "    \n",
    "    #Define the qubits in Cirq\n",
    "    circuit = cirq.Circuit(device=cirq.google.Sycamore)\n",
    "    circuit.append(cirq.I(q) for q in cirq.GridQubit.range(nbits))\n",
    "    for operator, coeff in components.items():\n",
    "        #find qubits CX-RZ-CX\n",
    "        cxlist = []\n",
    "        for i in range(len(operator)):\n",
    "            cxlist.append(i) if operator[i] == 'Z' else None\n",
    "        cxlist = [nbits - 1 - i for i in cxlist]\n",
    "        if coeff == 0 or len(cxlist) == 0:\n",
    "            continue\n",
    "        elif len(cxlist) == 1:           \n",
    "            circuit.append(cirq.ops.rz(-2*coeff).on(cirq.GridQubit(cxlist[0])))\n",
    "        else: \n",
    "            # print(cxlist)\n",
    "            # print(type(cxlist))\n",
    "            for ctrl in cxlist[:-1]:\n",
    "                target, control = cirq.GridQubit(cxlist[-1]), cirq.GridQubit(ctrl)\n",
    "                # print(target, control)\n",
    "                cnot = cirq.CNOT(control=control, target=target)\n",
    "                circuit.append( cnot )\n",
    "            circuit.append(cirq.ops.rz(-2*coeff).on(cirq.GridQubit(cxlist[-1])))\n",
    "            for ctrl in reversed(cxlist[:-1]):\n",
    "                circuit.append(cirq.ops.CNOT(control=cirq.GridQubit(ctrl), target=cirq.GridQubit(cxlist[-1])))\n",
    "    return circuit  \n",
    "\n",
    "    #Testing!\n",
    "ckt = UGate(np.diag([-1,1,-1,1]))\n",
    "print(ckt)"
   ]
  },
  {
   "cell_type": "code",
   "execution_count": 14,
   "id": "dominican-details",
   "metadata": {},
   "outputs": [
    {
     "name": "stdout",
     "output_type": "stream",
     "text": [
      "0: ───I───Rz(-π)───\n",
      "\n",
      "1: ───I────────────\n"
     ]
    }
   ],
   "source": [
    "def UGate(umat):\n",
    "    \"\"\"Realises the specified unitary digonal matrix in a Cirq quantum cricuit\n",
    "    \n",
    "    Parameters:\n",
    "        umat (matrix): unitary diagonal matrix to realise\n",
    "        \n",
    "    Returns:\n",
    "        QuantumCircuit which implements the unitary\n",
    "    \"\"\"\n",
    "    #Check input\n",
    "    nbits = np.log2(umat.shape[0])\n",
    "    if umat.shape[0] != umat.shape[1] or not nbits.is_integer:\n",
    "        raise Exception('Matrix has incorrect dimensions')\n",
    "    elif not np.allclose(np.matmul(umat,np.conj(umat)), np.identity(umat.shape[0])):\n",
    "        raise Exception('Matrix is not unitary')\n",
    "    elif not np.allclose(umat, np.diag(np.diagonal(umat))):\n",
    "        raise Exception('matrix is not diagonal')\n",
    "    nbits = int(nbits) #n classical bits 1 < n < 8\n",
    "    \n",
    "    \n",
    "    # Pauli Decompose \n",
    "    hmat = np.angle(umat) #Tells us the complex argument of the matrix, thereby parameterizing the circuit\n",
    "    components = PauliDecompose(hmat) #Decomposing the circuit according to the decomposing method\n",
    "    \n",
    "    # order to implement Pauli component (reduces CNOTs used)\n",
    "    # iteratively add each pauli component\n",
    "    \n",
    "    #Define the qubits in Cirq\n",
    "    circuit = cirq.Circuit()\n",
    "    \n",
    "    \n",
    "    circuit.append(cirq.I(q) for q in cirq.LineQubit.range(nbits))\n",
    "    \n",
    "    \n",
    "    for operator, coeff in components.items():\n",
    "        #find qubits CX-RZ-CX\n",
    "        cxlist = []\n",
    "        for i in range(len(operator)):\n",
    "            cxlist.append(i) if operator[i] == 'Z' else None\n",
    "        cxlist = [nbits - 1 - i for i in cxlist]\n",
    "        if coeff == 0 or len(cxlist) == 0:\n",
    "            continue\n",
    "        elif len(cxlist) == 1:           \n",
    "            circuit.append(cirq.ops.rz(-2*coeff).on(cirq.LineQubit(cxlist[0])))\n",
    "        else: \n",
    "            for ctrl in cxlist[:-1]:\n",
    "                circuit.append(cirq.ops.CNOT(control=ctrl, target=cirq.LineQubit(cxlist[:-1])))\n",
    "            circuit.append(cirq.ops.rz(-2*coeff).on(cirq.LineQubit(cxlist[-1])))\n",
    "            for ctrl in reversed(cxlist[:-1]):\n",
    "                circuit.append(cirq.ops.CNOT(control=ctrl, target=cirq.LineQubit(cxlist[:-1])))\n",
    "    return circuit  \n",
    "                    \n",
    "#Testing!\n",
    "ckt = UGate(np.diag([-1,1,-1,1]))\n",
    "print(ckt)"
   ]
  },
  {
   "cell_type": "code",
   "execution_count": 15,
   "id": "typical-bread",
   "metadata": {},
   "outputs": [
    {
     "name": "stdout",
     "output_type": "stream",
     "text": [
      "[cirq.GridQubit(0, 0), cirq.GridQubit(0, 1), cirq.GridQubit(0, 2), cirq.GridQubit(0, 3), cirq.GridQubit(1, 0), cirq.GridQubit(1, 1), cirq.GridQubit(1, 2), cirq.GridQubit(1, 3), cirq.GridQubit(2, 0), cirq.GridQubit(2, 1), cirq.GridQubit(2, 2), cirq.GridQubit(2, 3), cirq.GridQubit(3, 0), cirq.GridQubit(3, 1), cirq.GridQubit(3, 2), cirq.GridQubit(3, 3)]\n"
     ]
    }
   ],
   "source": [
    "qubits = cirq.GridQubit.square(4)\n",
    "print(qubits)"
   ]
  },
  {
   "cell_type": "code",
   "execution_count": 16,
   "id": "twenty-snake",
   "metadata": {},
   "outputs": [
    {
     "name": "stdout",
     "output_type": "stream",
     "text": [
      "                                             (0, 5)───(0, 6)\n",
      "                                             │        │\n",
      "                                             │        │\n",
      "                                    (1, 4)───(1, 5)───(1, 6)───(1, 7)\n",
      "                                    │        │        │        │\n",
      "                                    │        │        │        │\n",
      "                           (2, 3)───(2, 4)───(2, 5)───(2, 6)───(2, 7)───(2, 8)\n",
      "                           │        │        │        │        │        │\n",
      "                           │        │        │        │        │        │\n",
      "                  (3, 2)───(3, 3)───(3, 4)───(3, 5)───(3, 6)───(3, 7)───(3, 8)───(3, 9)\n",
      "                  │        │        │        │        │        │        │        │\n",
      "                  │        │        │        │        │        │        │        │\n",
      "         (4, 1)───(4, 2)───(4, 3)───(4, 4)───(4, 5)───(4, 6)───(4, 7)───(4, 8)───(4, 9)\n",
      "         │        │        │        │        │        │        │        │\n",
      "         │        │        │        │        │        │        │        │\n",
      "(5, 0)───(5, 1)───(5, 2)───(5, 3)───(5, 4)───(5, 5)───(5, 6)───(5, 7)───(5, 8)\n",
      "         │        │        │        │        │        │        │\n",
      "         │        │        │        │        │        │        │\n",
      "         (6, 1)───(6, 2)───(6, 3)───(6, 4)───(6, 5)───(6, 6)───(6, 7)\n",
      "                  │        │        │        │        │\n",
      "                  │        │        │        │        │\n",
      "                  (7, 2)───(7, 3)───(7, 4)───(7, 5)───(7, 6)\n",
      "                           │        │        │\n",
      "                           │        │        │\n",
      "                           (8, 3)───(8, 4)───(8, 5)\n",
      "                                    │\n",
      "                                    │\n",
      "                                    (9, 4)\n"
     ]
    }
   ],
   "source": [
    "print(cirq.google.Sycamore)"
   ]
  },
  {
   "cell_type": "code",
   "execution_count": 18,
   "id": "palestinian-color",
   "metadata": {},
   "outputs": [
    {
     "name": "stdout",
     "output_type": "stream",
     "text": [
      "0: ───I───Rz(-π)───\n",
      "\n",
      "1: ───I────────────\n"
     ]
    }
   ],
   "source": [
    "def UGate(umat):\n",
    "    \"\"\"Realises the specified unitary digonal matrix in a Cirq quantum cricuit\n",
    "    \n",
    "    Parameters:\n",
    "        umat (matrix): unitary diagonal matrix to realise\n",
    "        \n",
    "    Returns:\n",
    "        QuantumCircuit which implements the unitary\n",
    "    \"\"\"\n",
    "    #Check input\n",
    "    nbits = np.log2(umat.shape[0])\n",
    "    if umat.shape[0] != umat.shape[1] or not nbits.is_integer:\n",
    "        raise Exception('Matrix has incorrect dimensions')\n",
    "    elif not np.allclose(np.matmul(umat,np.conj(umat)), np.identity(umat.shape[0])):\n",
    "        raise Exception('Matrix is not unitary')\n",
    "    elif not np.allclose(umat, np.diag(np.diagonal(umat))):\n",
    "        raise Exception('matrix is not diagonal')\n",
    "    nbits = int(nbits) #n classical bits 1 < n < 8\n",
    "    \n",
    "    \n",
    "    # Pauli Decompose \n",
    "    hmat = np.angle(umat) #Tells us the complex argument of the matrix, thereby parameterizing the circuit\n",
    "    components = PauliDecompose(hmat) #Decomposing the circuit according to the decomposing method\n",
    "    \n",
    "    # order to implement Pauli component (reduces CNOTs used)\n",
    "    # iteratively add each pauli component\n",
    "    \n",
    "    #Define the qubits in Cirq\n",
    "    circuit = cirq.Circuit()\n",
    "    \n",
    "    \n",
    "    circuit.append(cirq.I(q) for q in cirq.LineQubit.range(nbits))\n",
    "    \n",
    "    \n",
    "    for operator, coeff in components.items():\n",
    "        #find qubits CX-RZ-CX\n",
    "        cxlist = []\n",
    "        for i in range(len(operator)):\n",
    "            cxlist.append(i) if operator[i] == 'Z' else None\n",
    "        cxlist = [nbits - 1 - i for i in cxlist]\n",
    "        if coeff == 0 or len(cxlist) == 0:\n",
    "            continue\n",
    "        elif len(cxlist) == 1:           \n",
    "            circuit.append(cirq.ops.rz(-2*coeff).on(cirq.LineQubit(cxlist[0])))\n",
    "        else: \n",
    "            # print(cxlist)\n",
    "            # print(type(cxlist))\n",
    "            for ctrl in cxlist[:-1]:\n",
    "                target, control = cirq.LineQubit(cxlist[-1]), cirq.LineQubit(ctrl)\n",
    "                # print(target, control)\n",
    "                cnot = cirq.CNOT(control=control, target=target)\n",
    "                circuit.append( cnot )\n",
    "            circuit.append(cirq.ops.rz(-2*coeff).on(cirq.LineQubit(cxlist[-1])))\n",
    "            for ctrl in reversed(cxlist[:-1]):\n",
    "                circuit.append(cirq.ops.CNOT(control=cirq.LineQubit(ctrl), target=cirq.LineQubit(cxlist[-1])))\n",
    "    return circuit  \n",
    "                    \n",
    "#Testing!\n",
    "ckt = UGate(np.diag([-1,1,-1,1]))\n",
    "print(ckt)"
   ]
  },
  {
   "cell_type": "code",
   "execution_count": 19,
   "id": "retired-salad",
   "metadata": {},
   "outputs": [
    {
     "name": "stdout",
     "output_type": "stream",
     "text": [
      "(32, 32)\n",
      "input U:  [ 0.04284379-0.99908178j  0.75335844-0.65761011j -0.86759207-0.49727658j\n",
      " -0.20711737+0.9783161j   0.64719147+0.76232749j  0.63242665-0.77462025j\n",
      "  0.98761974+0.15686697j -0.60099882+0.79924991j  0.03691372+0.99931846j\n",
      " -0.6529381 -0.75741127j  0.96311242-0.26909936j -0.99122115+0.1322143j\n",
      "  0.57446068+0.81853218j  0.89255988-0.45092888j  0.99762227-0.06891886j\n",
      " -0.71185811-0.70232331j -0.21086154-0.97751594j -0.69076292-0.72308132j\n",
      " -0.32363552-0.94618183j  0.3651008 +0.93096799j -0.83428571+0.55133234j\n",
      " -0.87577029-0.48272808j  0.99303144-0.11784975j -0.39405052-0.91908878j\n",
      " -0.55151553-0.83416462j -0.9858429 -0.16767164j -0.98454791+0.17511541j\n",
      "  0.95110266-0.30887493j  0.91598297+0.40121715j -0.49589399-0.86838306j\n",
      "  0.69076302+0.72308122j -0.66041888-0.7508974j ]\n",
      "0: ───I───Rz(-0.258π)───X───Rz(-0.349π)───X───X───Rz(0.382π)───X────────────────────────X───X───Rz(-0.123π)───X───X───X───Rz(0.298π)───X─────────────────────────X───X───Rz(-0.223π)───X───X────────────────────────X───X───Rz(0.195π)───X───X────────────────────────────────X───X───X───Rz(0.12π)───X───X───X───X───Rz(0.308π)───X───────────────────────X───X───Rz(-0.193π)───X───X─────────────────────────X───X───Rz(-0.06π)───X───X─────────────────────────────────X───X───X───Rz(-0.185π)───X───X───X─────────────────────────X───X───Rz(0.091π)───X───X────────────────────────────────X───X───X───Rz(0.177π)───X───X───X───────────────────────────────X───X───X───Rz(-0.127π)───X───X───X─────────────────────────────────────────X───X───X───X───Rz(0.206π)───X───X───X───X───\n",
      "                        │                 │   │                │                        │   │                 │   │   │                │                         │   │                 │   │                        │   │                │   │                                │   │   │               │   │   │   │                │                       │   │                 │   │                         │   │                │   │                                 │   │   │                 │   │   │                         │   │                │   │                                │   │   │                │   │   │                               │   │   │                 │   │   │                                         │   │   │   │                │   │   │   │\n",
      "1: ───I───Rz(0.273π)────@─────────────────@───┼────────────────┼───X───Rz(0.367π)───X───┼───@─────────────────@───┼───┼────────────────┼───X───Rz(-0.066π)───X───┼───@─────────────────@───┼────────────────────────┼───┼────────────────┼───┼───X───X───Rz(-0.19π)───X───X───┼───┼───@───────────────@───┼───┼───┼────────────────┼───X───Rz(-0.1π)───X───┼───@─────────────────@───┼─────────────────────────┼───┼────────────────┼───┼───X───X───Rz(-0.151π)───X───X───┼───┼───@─────────────────@───┼───┼─────────────────────────┼───┼────────────────┼───┼───X───X───Rz(0.195π)───X───X───┼───┼───@────────────────@───┼───┼───────────────────────────────┼───┼───┼─────────────────┼───┼───┼───X───X───X───Rz(-0.104π)───X───X───X───┼───┼───┼───@────────────────@───┼───┼───┼───\n",
      "                                              │                │   │                │   │                         │   │                │   │                 │   │                         │                        │   │                │   │   │   │                │   │   │   │                       │   │   │                │   │               │   │                         │                         │   │                │   │   │   │                 │   │   │   │                         │   │                         │   │                │   │   │   │                │   │   │   │                        │   │                               │   │   │                 │   │   │   │   │   │                 │   │   │   │   │   │                        │   │   │\n",
      "2: ───I───Rz(0.069π)──────────────────────────@────────────────@───@────────────────@───@─────────────────────────@───┼────────────────┼───┼─────────────────┼───┼─────────────────────────┼───X───Rz(0.253π)───X───┼───@────────────────@───┼───┼───@────────────────@───┼───┼───@───────────────────────@───┼───┼────────────────┼───┼───────────────┼───┼─────────────────────────┼───X───Rz(-0.009π)───X───┼───@────────────────@───┼───┼───@─────────────────@───┼───┼───@─────────────────────────@───┼─────────────────────────┼───┼────────────────┼───┼───┼───┼────────────────┼───┼───┼───┼────────────────────────┼───┼───X───X───Rz(0.12π)───X───X───┼───┼───@─────────────────@───┼───┼───┼───┼───@─────────────────@───┼───┼───┼───┼───@────────────────────────@───┼───┼───\n",
      "                                                                                                                      │                │   │                 │   │                         │   │                │   │                        │   │                        │   │                               │   │                │   │               │   │                         │   │                 │   │                        │   │                         │   │                                 │                         │   │                │   │   │   │                │   │   │   │                        │   │   │   │               │   │   │   │                         │   │   │   │                         │   │   │   │                                │   │\n",
      "3: ───I───Rz(0.043π)──────────────────────────────────────────────────────────────────────────────────────────────────@────────────────@───@─────────────────@───@─────────────────────────@───@────────────────@───@────────────────────────@───@────────────────────────@───@───────────────────────────────@───┼────────────────┼───┼───────────────┼───┼─────────────────────────┼───┼─────────────────┼───┼────────────────────────┼───┼─────────────────────────┼───┼─────────────────────────────────┼───X───Rz(-0.011π)───X───┼───@────────────────@───┼───┼───@────────────────@───┼───┼───@────────────────────────@───┼───┼───@───────────────@───┼───┼───@─────────────────────────@───┼───┼───@─────────────────────────@───┼───┼───@────────────────────────────────@───┼───\n",
      "                                                                                                                                                                                                                                                                                                                  │                │   │               │   │                         │   │                 │   │                        │   │                         │   │                                 │   │                 │   │                        │   │                        │   │                                │   │                       │   │                                 │   │                                 │   │                                        │\n",
      "4: ───I───Rz(-0.238π)─────────────────────────────────────────────────────────────────────────────────────────────────────────────────────────────────────────────────────────────────────────────────────────────────────────────────────────────────────────────────────────────────────────────────────────────@────────────────@───@───────────────@───@─────────────────────────@───@─────────────────@───@────────────────────────@───@─────────────────────────@───@─────────────────────────────────@───@─────────────────@───@────────────────────────@───@────────────────────────@───@────────────────────────────────@───@───────────────────────@───@─────────────────────────────────@───@─────────────────────────────────@───@────────────────────────────────────────@───\n"
     ]
    }
   ],
   "source": [
    "nbits = 5\n",
    "# generate random unitary diagonal matrix\n",
    "umat = np.random.rand(2**nbits)\n",
    "umat = np.exp(2j * np.pi * umat)\n",
    "umat = np.diag(umat)\n",
    "\n",
    "print(np.shape(umat))\n",
    "# simulate generated circuit\n",
    "\n",
    "qc = UGate(umat)\n",
    "\n",
    "#backend = Aer.get_backend('unitary_simulator')\n",
    "#job = execute(qc, backend)\n",
    "#out = job.result().get_unitary()\n",
    "\n",
    "# compare input & output\n",
    "print(\"input U: \", np.diagonal(umat))\n",
    "#print(\"output U: \", np.diagonal(out))\n",
    "#print(\"identical: \", np.allclose(umat, out))\n",
    "print(qc)"
   ]
  },
  {
   "cell_type": "code",
   "execution_count": null,
   "id": "middle-fiction",
   "metadata": {},
   "outputs": [],
   "source": []
  },
  {
   "cell_type": "code",
   "execution_count": null,
   "id": "split-recorder",
   "metadata": {},
   "outputs": [],
   "source": []
  },
  {
   "cell_type": "code",
   "execution_count": null,
   "id": "downtown-conversation",
   "metadata": {},
   "outputs": [],
   "source": []
  },
  {
   "cell_type": "code",
   "execution_count": null,
   "id": "curious-portal",
   "metadata": {},
   "outputs": [],
   "source": []
  }
 ],
 "metadata": {
  "kernelspec": {
   "display_name": "Python 3",
   "language": "python",
   "name": "python3"
  },
  "language_info": {
   "codemirror_mode": {
    "name": "ipython",
    "version": 3
   },
   "file_extension": ".py",
   "mimetype": "text/x-python",
   "name": "python",
   "nbconvert_exporter": "python",
   "pygments_lexer": "ipython3",
   "version": "3.7.6"
  }
 },
 "nbformat": 4,
 "nbformat_minor": 5
}
