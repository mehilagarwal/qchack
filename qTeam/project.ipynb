{
 "cells": [
  {
   "cell_type": "markdown",
   "id": "flying-triple",
   "metadata": {},
   "source": [
    "# Modular Arithmetic and Shor's Algorithm Implementation\n",
    "## Laura Lewis\n",
    "\n",
    "For this, we used references from the following sources:<br/>\n",
    "https://arxiv.org/pdf/quant-ph/9508027.pdf<br/>\n",
    "https://arxiv.org/pdf/quant-ph/0205095.pdf<br/>\n",
    "https://qiskit.org/textbook/ch-algorithms/shor.html<br/>\n",
    "https://qiskit.org/textbook/ch-algorithms/quantum-fourier-transform.html<br/>\n",
    "https://qiskit.org/textbook/ch-algorithms/quantum-phase-estimation.html<br/>\n",
    "\n",
    "Also, see the README for a bit more info."
   ]
  },
  {
   "cell_type": "code",
   "execution_count": 2,
   "id": "reverse-division",
   "metadata": {},
   "outputs": [],
   "source": [
    "import cirq\n",
    "import numpy as np\n",
    "import math\n",
    "from fractions import Fraction"
   ]
  },
  {
   "cell_type": "markdown",
   "id": "excellent-shoulder",
   "metadata": {},
   "source": [
    "First, we have the QFT, which is already implemented in one of the Qiskit links above."
   ]
  },
  {
   "cell_type": "code",
   "execution_count": 3,
   "id": "precise-stability",
   "metadata": {},
   "outputs": [],
   "source": [
    "def qft(res):\n",
    "    def swap_registers(res):\n",
    "        n = len(res)\n",
    "        for i in range(n // 2):\n",
    "            yield cirq.SWAP(res[i], res[n - i - 1])\n",
    "    def qft_rotations(res, n):\n",
    "        if n == 0:\n",
    "            return\n",
    "        n -= 1\n",
    "        yield cirq.H(res[n])\n",
    "        for i in range(n):\n",
    "            cp = cirq.ops.cphase(np.pi/2**(n-i))\n",
    "            yield cp(res[i], res[n])\n",
    "        yield qft_rotations(res, n)\n",
    "   \n",
    "    n = len(res)\n",
    "    yield qft_rotations(res, n)\n",
    "    yield swap_registers(res)\n",
    "\n",
    "# def qft(res):\n",
    "#     yield cirq.qft(*res)"
   ]
  },
  {
   "cell_type": "code",
   "execution_count": 4,
   "id": "mysterious-bristol",
   "metadata": {},
   "outputs": [],
   "source": [
    "# inverse QFT for n qubits\n",
    "def iqft(res):\n",
    "    inverse_circuit = cirq.inverse(qft(res))\n",
    "    return inverse_circuit"
   ]
  },
  {
   "cell_type": "markdown",
   "id": "sorted-mouse",
   "metadata": {},
   "source": [
    "Now, following Beauregard, we need to implement many quantum circuits for modular arithmetic, namely modular exponentiation. We follow her paper to implement all of the arithmetic operations there for a general modulus."
   ]
  },
  {
   "cell_type": "code",
   "execution_count": 5,
   "id": "crude-comedy",
   "metadata": {},
   "outputs": [],
   "source": [
    "# adder circuit: maps |x> to |x + b mod N> for b, N classical integers\n",
    "\n",
    "# helper for adding in phase first: x is a QuantumRegister and c, modulus are ints\n",
    "# x is assumed to already by in the phase basis (i.e. we applied QFT to it already)\n",
    "# this corresponds to \\phi ADD(a) MOD(N) gate\n",
    "# note that when calling this, it has to be called with another qubit (to store carry over)\n",
    "def add_const_phase(x, b, modulus):\n",
    "    n = len(x)\n",
    "    mod_flag = cirq.LineQubit(3 * n)\n",
    "    \n",
    "    # |x + b>\n",
    "    for i in range(n):\n",
    "        power = 2 ** ((n - 1) - i)\n",
    "        yield cirq.rz(b * np.pi / power)(x[i])\n",
    "    \n",
    "    # |x + b - N>\n",
    "    for i in range(n - 1, -1, -1):\n",
    "        power = 2 ** ((n - 1) - i)\n",
    "        yield cirq.rz(-modulus * np.pi / power)(x[i])\n",
    "    \n",
    "    # copies MSB of |x + b - N> into mod_flag\n",
    "    \n",
    "    yield iqft(x)\n",
    "    yield cirq.CNOT(x[n - 1], mod_flag)\n",
    "    yield qft(x)\n",
    "    \n",
    "    # if x + b < modulus, modFlag is |1>, so add modulus back to register\n",
    "    for i in range(n):\n",
    "        power = 2 ** ((n - 1) - i)\n",
    "        crz = cirq.rz(modulus * np.pi / power).controlled()\n",
    "        yield crz(mod_flag, x[i])\n",
    "        \n",
    "    # restore mod_flag to |0>\n",
    "    for i in range(n - 1, -1, -1):\n",
    "        power = 2 ** ((n - 1) - i)\n",
    "        yield cirq.rz(-b * np.pi / power, x[i])\n",
    "    yield cirq.x(mod_flag)\n",
    "    yield iqft(x)\n",
    "    yield cirq.CNOT(x[n - 1], mod_flag)\n",
    "    yield qft(x)\n",
    "    for i in range(n):\n",
    "        power = 2 ** ((n - 1) - i)\n",
    "        yield cirq.rz(b * np.pi / power, x[i])\n",
    "        \n",
    "# controlled version of previous function (unaware if Cirq does this automatically but couldn't find)\n",
    "def cadd_const_phase(control, x, b, modulus):\n",
    "    n = len(x)\n",
    "    mod_flag = cirq.LineQubit(3 * n + 1)\n",
    "    for i in range(n):\n",
    "        power = 2 ** ((n - 1) - i)\n",
    "        crz = cirq.rz(b * np.pi / power).controlled()\n",
    "        yield crz(control, x[i])\n",
    "\n",
    "    for i in range(n - 1, -1, -1):\n",
    "        power = 2 ** ((n - 1) - i)\n",
    "        crz = cirq.rz(-modulus * np.pi / power).controlled()\n",
    "        yield crz(control, x[i])\n",
    "    \n",
    "    yield iqft(x) # depth added by not having these controlled, but doesn't affect correctness\n",
    "    yield cirq.CCNOT(control, x[n - 1], mod_flag)\n",
    "    yield qft(x)\n",
    "    \n",
    "    for i in range(n):\n",
    "        power = 2 ** ((n - 1) - i)\n",
    "        crz = cirq.rz(modulus * np.pi / power).controlled()\n",
    "        ccrz = crz.controlled()\n",
    "        yield ccrz(control, mod_flag, x[i])\n",
    "        \n",
    "    for i in range(n - 1, -1, -1):\n",
    "        power = 2 ** ((n - 1) - i)\n",
    "        crz = cirq.rz(-b * np.pi / power).controlled()\n",
    "        yield crz(control, x[i])\n",
    "    yield cirq.CNOT(control, mod_flag)\n",
    "    yield iqft(x)\n",
    "    yield cirq.CCNOT(control, x[n - 1], mod_flag)\n",
    "    yield qft(x)\n",
    "    for i in range(n):\n",
    "        power = 2 ** ((n - 1) - i)\n",
    "        crz = cirq.rz(b * np.pi / power).controlled()\n",
    "        yield crz(control, x[i])\n",
    "\n",
    "# doubly controlled version of previous function (unaware if Cirq does this automatically but couldn't find)\n",
    "def ccadd_const_phase(control1, control2, x, b, modulus):\n",
    "    n = len(x)\n",
    "    mod_flag = cirq.LineQubit(3 * n + 3)\n",
    "    for i in range(n):\n",
    "        power = 2 ** ((n - 1) - i)\n",
    "        crz = cirq.rz(b * np.pi / power).controlled()\n",
    "        ccrz = crz.controlled()\n",
    "        yield ccrz(control1, control2, x[i])\n",
    "\n",
    "    for i in range(n - 1, -1, -1):\n",
    "        power = 2 ** ((n - 1) - i)\n",
    "        crz = cirq.rz(-modulus * np.pi / power).controlled()\n",
    "        ccrz = crz.controlled()\n",
    "        yield ccrz(control1, control2, x[i])\n",
    "    \n",
    "    yield iqft(x) # depth added by not having these controlled, but doesn't affect correctness\n",
    "    cccnot = cirq.CCNOT.controlled()\n",
    "    yield cccnot(control1, control2, x[n - 1], mod_flag)\n",
    "    yield qft(x)\n",
    "    \n",
    "    for i in range(n):\n",
    "        power = 2 ** ((n - 1) - i)\n",
    "        crz = cirq.rz(modulus * np.pi / power).controlled()\n",
    "        ccrz = crz.controlled()\n",
    "        cccrz = ccrz.controlled()\n",
    "        yield cccrz(control1, control2, mod_flag, x[i])\n",
    "        \n",
    "    for i in range(n - 1, -1, -1):\n",
    "        power = 2 ** ((n - 1) - i)\n",
    "        crz = cirq.rz(-b * np.pi / power).controlled()\n",
    "        ccrz = crz.controlled()\n",
    "        yield ccrz(control1, control2, x[i])\n",
    "    yield cirq.CCNOT(control1, control2, mod_flag)\n",
    "    yield iqft(x)\n",
    "    yield cccnot(control1, control2, x[n - 1], mod_flag)\n",
    "    yield qft(x)\n",
    "    for i in range(n):\n",
    "        power = 2 ** ((n - 1) - i)\n",
    "        crz = cirq.rz(b * np.pi / power).controlled()\n",
    "        ccrz = crz.controlled()\n",
    "        yield ccrz(control1, control2, x[i])\n",
    "    \n",
    "# adding constant in the computational basis (instead of in phase as before)\n",
    "# not necessary for Shor's but useful\n",
    "def add_const(x, b, modulus):\n",
    "    n = len(x)\n",
    "    anc = cirq.LineQubit(3 * n + 3)\n",
    "    yield qft(x + [anc])\n",
    "    yield add_const_phase(x + [anc], b, modulus)\n",
    "    yield iqft(x + [anc]) "
   ]
  },
  {
   "cell_type": "markdown",
   "id": "recent-carnival",
   "metadata": {},
   "source": [
    "Before continuing to the next step, just need to create a helper function following the extended Euclidean algorithm. This is a well-known algorithm, so we follow several descriptions of the implementation online, i.e. https://en.wikipedia.org/wiki/Extended_Euclidean_algorithm. This will allow us to find the multiplicative inverse of an integer in the ring of integers modulo $N$ using techniques from abstract algebra."
   ]
  },
  {
   "cell_type": "code",
   "execution_count": 6,
   "id": "atlantic-hotel",
   "metadata": {},
   "outputs": [],
   "source": [
    "def extended_euclid(a, b): \n",
    "    if (a == 0): \n",
    "        return (b, 0, 1)  \n",
    "    gcd, x, y = extended_euclid(b % a, a)\n",
    "    new_x = y - (b // a) * x\n",
    "    new_y = x\n",
    "    return (gcd, new_x, new_y)"
   ]
  },
  {
   "cell_type": "markdown",
   "id": "industrial-clothing",
   "metadata": {},
   "source": [
    "Continuing with the arithmetic operations,"
   ]
  },
  {
   "cell_type": "code",
   "execution_count": 7,
   "id": "differential-institution",
   "metadata": {},
   "outputs": [],
   "source": [
    "# multiplier and adder gate: maps |x>|y> to |x>|y + (ax) mod N> where a, N are classical integers\n",
    "# this corresponds to to CMULT(a) MOD(N) without being controlled\n",
    "def mult_add(x, y, a, modulus):\n",
    "    n = len(x)\n",
    "    anc = cirq.LineQubit(3 * n + 4)\n",
    "    yield qft(y + [anc])\n",
    "    for i in range(n):\n",
    "        b = (((2 ** i) % modulus) * a) % modulus\n",
    "        yield cadd_const_phase(x[i], y + [anc], b, modulus)\n",
    "    yield iqft(y + [anc])\n",
    "\n",
    "# controlled version of previous function\n",
    "def cmult_add(control, x, y, a, modulus):\n",
    "    n = len(x)\n",
    "    anc = cirq.LineQubit(3 * n + 5)\n",
    "    yield qft(y + [anc])\n",
    "    for i in range(n):\n",
    "        b = (((2 ** i) % modulus) * a) % modulus\n",
    "        yield ccadd_const_phase(control, x[i], y + [anc], b, modulus)\n",
    "    yield iqft(y + [anc])\n",
    "        \n",
    "# most important operation for Shor's\n",
    "# multiplication by an integer: maps |x> to |(ax) mod N> where a, N are classical integers\n",
    "def mult(x, a, modulus):\n",
    "    n = len(x)\n",
    "    \n",
    "    # |x>|0>\n",
    "    anc = cirq.LineQubit.range(3 * n + 6, 4 * n + 6)\n",
    "    \n",
    "    # |x>|(ax) mod N>\n",
    "    yield mult_add(x, anc, a, modulus)\n",
    "    \n",
    "    # |(ax) mod N>|x>\n",
    "    for i in range(n):\n",
    "        yield cirq.SWAP(anc[i], x[i])\n",
    "        \n",
    "    # need to compute a^{-1} mod N so that we can uncompute |x> to |0>\n",
    "    gcd, c, d = extended_euclid(a, modulus)\n",
    "    assert(gcd == 1)\n",
    "    a_inverse = c % modulus\n",
    "    \n",
    "    # now with this, we want to use mult_add to get |(ax) mod N>|0>\n",
    "    # this is the same as if we subtract |x - a^{-1}(ax) mod N> = |x - x mod N> = |0> in the second register\n",
    "    yield cirq.inverse(mult_add(x, anc, a_inverse, modulus))\n",
    "\n",
    "# controlled version of previous function\n",
    "def cmult(control, x, a, modulus):\n",
    "    n = len(x)\n",
    "    \n",
    "    anc = cirq.LineQubit.range(4 * n + 7, 5 * n + 7)\n",
    "    yield cmult_add(control, x, anc, a, modulus)\n",
    "    for i in range(n):\n",
    "        yield cirq.CSWAP(control, anc[i], x[i])\n",
    "    gcd, c, d = extended_euclid(a, modulus)\n",
    "    assert(gcd == 1)\n",
    "    a_inverse = c % modulus\n",
    "    yield cirq.inverse(cmult_add(control, x, anc, a_inverse, modulus))"
   ]
  },
  {
   "cell_type": "markdown",
   "id": "informed-miracle",
   "metadata": {},
   "source": [
    "Now, for the actual modular exponentiation circuits we wanted, where we use the approaches from https://arxiv.org/pdf/quant-ph/0205095.pdf and https://arxiv.org/pdf/quant-ph/9508027.pdf to implement this. "
   ]
  },
  {
   "cell_type": "code",
   "execution_count": 8,
   "id": "celtic-surge",
   "metadata": {},
   "outputs": [],
   "source": [
    "# helper for modular exponentiation: maps |x> to |a^{2^j} x mod N> controlled on another qubit, where a, j, N are classical integers\n",
    "def cmod_exp_helper(control, x, a, j, modulus):\n",
    "    n = 2 ** j\n",
    "    for i in range(n):\n",
    "        yield cmult(control, x, a, modulus)\n",
    "\n",
    "# modular exponentiation: maps |x>|y> to |x>|a^x * y mod N>, where a, N are classical integers\n",
    "def mod_exp(x, y, a, modulus):\n",
    "    n = len(x)\n",
    "    for i in range(n):\n",
    "        yield cmod_exp_helper(x[i], y, a, i, modulus)"
   ]
  },
  {
   "cell_type": "markdown",
   "id": "determined-grave",
   "metadata": {},
   "source": [
    "Now, to actually implement the order finding algorithm, we have the following."
   ]
  },
  {
   "cell_type": "code",
   "execution_count": 9,
   "id": "typical-smooth",
   "metadata": {},
   "outputs": [],
   "source": [
    "def find_order_sim(a, modulus, num_qubits):\n",
    "    x = cirq.LineQubit.range(num_qubits)\n",
    "    y = cirq.LineQubit.range(num_qubits, 2 * num_qubits)\n",
    "    circuit = cirq.Circuit()\n",
    "    \n",
    "    circuit.append(cirq.X(y[0]))\n",
    "    for i in range(num_qubits):\n",
    "        circuit.append(cirq.H(x[i]))\n",
    "    circuit.append(mod_exp(x, y, a, modulus))\n",
    "    circuit.append(qft(x))\n",
    "    circuit.append(cirq.measure(*x, key='res'))\n",
    "    simulator = cirq.Simulator()\n",
    "    result = simulator.run(circuit)\n",
    "    return result"
   ]
  },
  {
   "cell_type": "markdown",
   "id": "separate-drawing",
   "metadata": {},
   "source": [
    "From here, we mainly follow the tutorial https://qiskit.org/textbook/ch-algorithms/shor.html as well as the procedure in https://arxiv.org/pdf/quant-ph/0205095.pdf (both of which are the same)."
   ]
  },
  {
   "cell_type": "code",
   "execution_count": 10,
   "id": "sophisticated-alias",
   "metadata": {},
   "outputs": [],
   "source": [
    "def find_order(a, N): # switching notation from modulus to N for convenience\n",
    "    num_qubits = 2 * math.ceil(math.log2(N))\n",
    "    result = find_order_sim(a, N, num_qubits)\n",
    "    results = dict(result.histogram(key='res'))\n",
    "    phase = max(results, key=results.get) / (2 ** num_qubits)\n",
    "    return phase\n",
    "    "
   ]
  },
  {
   "cell_type": "code",
   "execution_count": 11,
   "id": "surprising-seating",
   "metadata": {},
   "outputs": [],
   "source": [
    "def factor(N):\n",
    "    if (N % 2 == 0):\n",
    "        return (2, N // 2)\n",
    "    a = np.random.randint(2, N)\n",
    "    gcd = math.gcd(a, N)\n",
    "    if (gcd > 1):\n",
    "        return (a, N // a)\n",
    "    order = Fraction(find_order(a, N)).limit_denominator(N).denominator\n",
    "    if (order < N and order % 2 == 0):\n",
    "        guess1 = math.gcd((pow(r, order // 2, N) - 1) % N, N)\n",
    "        guess2 = math.gcd((pow(r, order // 2, N) + 1) % N, N)\n",
    "        for guess in [guess1, guess2]:\n",
    "            if (N % guess == 0 and guess != N and guess != 1):\n",
    "                return (guess, N // guess)\n",
    "    return (1, N) # not found"
   ]
  },
  {
   "cell_type": "code",
   "execution_count": 12,
   "id": "current-american",
   "metadata": {},
   "outputs": [
    {
     "data": {
      "text/plain": [
       "(2, 2)"
      ]
     },
     "execution_count": 12,
     "metadata": {},
     "output_type": "execute_result"
    }
   ],
   "source": [
    "factor(4)"
   ]
  },
  {
   "cell_type": "code",
   "execution_count": 13,
   "id": "specified-simulation",
   "metadata": {},
   "outputs": [
    {
     "data": {
      "text/plain": [
       "(2, 3)"
      ]
     },
     "execution_count": 13,
     "metadata": {},
     "output_type": "execute_result"
    }
   ],
   "source": [
    "factor(6)"
   ]
  },
  {
   "cell_type": "code",
   "execution_count": 14,
   "id": "russian-table",
   "metadata": {},
   "outputs": [
    {
     "data": {
      "text/plain": [
       "(2, 4)"
      ]
     },
     "execution_count": 14,
     "metadata": {},
     "output_type": "execute_result"
    }
   ],
   "source": [
    "factor(8)"
   ]
  },
  {
   "cell_type": "code",
   "execution_count": 23,
   "id": "innocent-necklace",
   "metadata": {},
   "outputs": [
    {
     "data": {
      "text/plain": [
       "(3, 3)"
      ]
     },
     "execution_count": 23,
     "metadata": {},
     "output_type": "execute_result"
    }
   ],
   "source": [
    "factor(9)"
   ]
  },
  {
   "cell_type": "markdown",
   "id": "breeding-holiday",
   "metadata": {},
   "source": [
    "Note the 4, 6, 8 were sanity checks. The 9 took a long time to run."
   ]
  }
 ],
 "metadata": {
  "kernelspec": {
   "display_name": "Python 3",
   "language": "python",
   "name": "python3"
  },
  "language_info": {
   "codemirror_mode": {
    "name": "ipython",
    "version": 3
   },
   "file_extension": ".py",
   "mimetype": "text/x-python",
   "name": "python",
   "nbconvert_exporter": "python",
   "pygments_lexer": "ipython3",
   "version": "3.7.6"
  }
 },
 "nbformat": 4,
 "nbformat_minor": 5
}
