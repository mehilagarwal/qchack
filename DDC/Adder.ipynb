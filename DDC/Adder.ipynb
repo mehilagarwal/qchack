{
 "cells": [
  {
   "cell_type": "code",
   "execution_count": 265,
   "metadata": {
    "ExecuteTime": {
     "end_time": "2021-04-11T08:19:42.467447Z",
     "start_time": "2021-04-11T08:19:42.461871Z"
    }
   },
   "outputs": [],
   "source": [
    "from numpy import pi\n",
    "from qiskit import (Aer, ClassicalRegister, QuantumCircuit, QuantumRegister,\n",
    "                    assemble, transpile)\n",
    "from qiskit.visualization import plot_histogram, plot_bloch_vector\n",
    "\n",
    "\n",
    "def create_QuantumRegister(size=1, name='q'):\n",
    "    return QuantumRegister(size, name)\n",
    "\n",
    "\n",
    "def create_ClassicalRegister(size=1, name='c'):\n",
    "    return ClassicalRegister(size, name)\n",
    "\n",
    "\n",
    "def generate_QuantumCircuit(quantum_register, classical_register):\n",
    "    return QuantumCircuit(quantum_register, classical_register)"
   ]
  },
  {
   "cell_type": "markdown",
   "metadata": {},
   "source": [
    "# Block 1: Convert integer to binary for initilization phase"
   ]
  },
  {
   "cell_type": "code",
   "execution_count": 369,
   "metadata": {
    "ExecuteTime": {
     "end_time": "2021-04-11T08:41:57.851233Z",
     "start_time": "2021-04-11T08:41:57.848296Z"
    }
   },
   "outputs": [],
   "source": [
    "# Integer Input\n",
    "\n",
    "num_1 = 3\n",
    "num_2 = 3"
   ]
  },
  {
   "cell_type": "code",
   "execution_count": 313,
   "metadata": {
    "ExecuteTime": {
     "end_time": "2021-04-11T08:25:53.572460Z",
     "start_time": "2021-04-11T08:25:53.566765Z"
    }
   },
   "outputs": [],
   "source": [
    "def binarize(num):\n",
    "    return bin(num)[2:]"
   ]
  },
  {
   "cell_type": "markdown",
   "metadata": {},
   "source": [
    "# Block 2: Design a circuit"
   ]
  },
  {
   "cell_type": "code",
   "execution_count": 536,
   "metadata": {
    "ExecuteTime": {
     "end_time": "2021-04-11T09:58:35.370659Z",
     "start_time": "2021-04-11T09:58:35.361017Z"
    }
   },
   "outputs": [],
   "source": [
    "def adder(num_1, num_2):\n",
    "    qr, c, q1, q2 = create_register(num_1, num_2)\n",
    "    qc = init_circuit(num_1, num_2)\n",
    "\n",
    "    init_1 = [0 for _ in range(2**len(q1))]\n",
    "    init_2 = [0 for _ in range(2**len(q1))]\n",
    "    init_1[num_1] = 1\n",
    "    init_2[num_2] = 1\n",
    "\n",
    "    qc.initialize(init_1, q1)\n",
    "    qc.initialize(init_2, q2)\n",
    "    \n",
    "    qc.h(q2)\n",
    "    \n",
    "    qc.z(q1)\n",
    "    \n",
    "    for i in range(len(q1)):\n",
    "        qc.cx(q1[i], qr[i])\n",
    "        qc.cx(q2[i], qr[i])\n",
    "        qc.toffoli(q1[i], q2[i], qr[i + 1])\n",
    "\n",
    "    qc.measure(qr, c)\n",
    "    return qc\n",
    "\n",
    "def simulate(qc):\n",
    "    \n",
    "    simulator = Aer.get_backend('aer_simulator')\n",
    "    qc = transpile(qc, simulator)\n",
    "\n",
    "    # Run and get counts\n",
    "    result = simulator.run(qc).result()\n",
    "    counts = result.get_counts(qc)\n",
    "    plot_histogram(counts, title='Bell-State counts', number_to_keep=len(counts))\n",
    "    return counts"
   ]
  },
  {
   "cell_type": "code",
   "execution_count": 537,
   "metadata": {
    "ExecuteTime": {
     "end_time": "2021-04-11T09:58:44.281537Z",
     "start_time": "2021-04-11T09:58:36.222407Z"
    },
    "scrolled": true
   },
   "outputs": [
    {
     "name": "stdout",
     "output_type": "stream",
     "text": [
      "(QuantumRegister(6, 'qr'), ClassicalRegister(6, 'c'), QuantumRegister(5, 'q0'), QuantumRegister(5, 'q1'))\n"
     ]
    }
   ],
   "source": [
    "qc = adder(22, 3)\n",
    "counts = simulate(qc)\n"
   ]
  },
  {
   "cell_type": "code",
   "execution_count": 548,
   "metadata": {
    "ExecuteTime": {
     "end_time": "2021-04-11T10:00:58.030092Z",
     "start_time": "2021-04-11T10:00:57.904885Z"
    }
   },
   "outputs": [],
   "source": [
    "plot_histogram(counts, number_to_keep=len(counts))\n",
    "num =  max(counts.items())[0]"
   ]
  },
  {
   "cell_type": "code",
   "execution_count": 549,
   "metadata": {
    "ExecuteTime": {
     "end_time": "2021-04-11T10:03:45.574749Z",
     "start_time": "2021-04-11T10:03:45.551191Z"
    }
   },
   "outputs": [
    {
     "ename": "TypeError",
     "evalue": "'str' object cannot be interpreted as an integer",
     "output_type": "error",
     "traceback": [
      "\u001b[0;31m---------------------------------------------------------------------------\u001b[0m",
      "\u001b[0;31mTypeError\u001b[0m                                 Traceback (most recent call last)",
      "\u001b[0;32m<ipython-input-549-cabc011b5965>\u001b[0m in \u001b[0;36m<module>\u001b[0;34m\u001b[0m\n\u001b[0;32m----> 1\u001b[0;31m \u001b[0mhex\u001b[0m\u001b[0;34m(\u001b[0m\u001b[0;34m'0b101111'\u001b[0m\u001b[0;34m)\u001b[0m\u001b[0;34m\u001b[0m\u001b[0;34m\u001b[0m\u001b[0m\n\u001b[0m",
      "\u001b[0;31mTypeError\u001b[0m: 'str' object cannot be interpreted as an integer"
     ]
    }
   ],
   "source": [
    "hex('0b101111')"
   ]
  },
  {
   "cell_type": "markdown",
   "metadata": {},
   "source": [
    "\n",
    "# Modified"
   ]
  },
  {
   "cell_type": "code",
   "execution_count": 501,
   "metadata": {
    "ExecuteTime": {
     "end_time": "2021-04-11T09:37:34.455012Z",
     "start_time": "2021-04-11T09:37:34.444361Z"
    }
   },
   "outputs": [],
   "source": [
    "def bit_length_init(*num):\n",
    "    bit_lenght = 0\n",
    "    for n in num:\n",
    "        bit_lenght = max(bit_lenght, len(binarize(n)))\n",
    "    return bit_lenght\n",
    "\n",
    "\n",
    "def create_register(*num):\n",
    "    length = bit_length_init(*num)\n",
    "\n",
    "    params = []\n",
    "    params.append(QuantumRegister(length + int((len(num) + 1) / 2), 'qr'))\n",
    "    params.append(ClassicalRegister(length + int((len(num) + 1) / 2), 'c'))\n",
    "    for i in range(len(num)):\n",
    "        params.append(QuantumRegister(length, 'q{}'.format(i)))\n",
    "    return tuple(params)\n",
    "\n",
    "\n",
    "def init_circuit(*num):\n",
    "    params = create_register(*num)\n",
    "    print(params)\n",
    "    return QuantumCircuit(*params)\n",
    "\n",
    "\n",
    "def adder(*num):\n",
    "    qr, c, q1, q2 = create_register(*num)\n",
    "    qc = init_circuit(*num)\n",
    "\n",
    "    init_1 = [0 for _ in range(2**len(q1))]\n",
    "    init_2 = [0 for _ in range(2**len(q1))]\n",
    "    init_1[num[0]] = 1\n",
    "    init_2[num[1]] = 1\n",
    "\n",
    "    qc.initialize(init_1, q1)\n",
    "    qc.initialize(init_2, q2)\n",
    "\n",
    "    for i in range(len(q1)):\n",
    "        qc.cx(q1[i], qr[i])\n",
    "        qc.cx(q2[i], qr[i])\n",
    "        qc.toffoli(q1[i], q2[i], qr[i + 1])\n",
    "\n",
    "    qc.measure(qr, c)\n",
    "    return qc"
   ]
  },
  {
   "cell_type": "code",
   "execution_count": 508,
   "metadata": {
    "ExecuteTime": {
     "end_time": "2021-04-11T09:40:06.843393Z",
     "start_time": "2021-04-11T09:40:06.838090Z"
    }
   },
   "outputs": [
    {
     "name": "stdout",
     "output_type": "stream",
     "text": [
      "(QuantumRegister(3, 'qr'), ClassicalRegister(3, 'c'), QuantumRegister(2, 'q0'), QuantumRegister(2, 'q1'))\n"
     ]
    }
   ],
   "source": [
    "qc = adder(3, 2)"
   ]
  },
  {
   "cell_type": "code",
   "execution_count": 507,
   "metadata": {
    "ExecuteTime": {
     "end_time": "2021-04-11T09:37:49.186352Z",
     "start_time": "2021-04-11T09:37:49.034259Z"
    }
   },
   "outputs": [
    {
     "data": {
      "text/plain": [
       "(Result(backend_name='aer_simulator', backend_version='0.8.0', qobj_id='c7eb19c2-dd83-4a66-81c4-96e733b397db', job_id='5144bae7-881e-4acf-9dfe-292c8fb17f83', success=True, results=[ExperimentResult(shots=1024, success=True, meas_level=MeasLevel.CLASSIFIED, data=ExperimentResultData(counts={'0x7': 1024}), header=QobjExperimentHeader(clbit_labels=[['c', 0], ['c', 1], ['c', 2], ['c', 3]], creg_sizes=[['c', 4]], global_phase=0.0, memory_slots=4, metadata=None, n_qubits=10, name='circuit-243', qreg_sizes=[['qr', 4], ['q0', 3], ['q1', 3]], qubit_labels=[['qr', 0], ['qr', 1], ['qr', 2], ['qr', 3], ['q0', 0], ['q0', 1], ['q0', 2], ['q1', 0], ['q1', 1], ['q1', 2]]), status=DONE, seed_simulator=1449502139, metadata={'parallel_shots': 4, 'device': 'CPU', 'parallel_state_update': 1, 'measure_sampling': False, 'method': 'statevector', 'fusion': {'applied': False, 'max_fused_qubits': 5, 'enabled': True, 'threshold': 14}}, time_taken=0.11679511100000001)], date=2021-04-11T16:37:49.157828, status=COMPLETED, status=QobjHeader(backend_name='aer_simulator', backend_version='0.8.0'), metadata={'time_taken': 0.11710237200000001, 'parallel_experiments': 1, 'omp_enabled': True, 'max_gpu_memory_mb': 0, 'num_mpi_processes': 1, 'max_memory_mb': 5831, 'mpi_rank': 0}, time_taken=0.11760520935058594),\n",
       " {'0111': 1024})"
      ]
     },
     "execution_count": 507,
     "metadata": {},
     "output_type": "execute_result"
    }
   ],
   "source": [
    "simulate(qc)"
   ]
  },
  {
   "cell_type": "code",
   "execution_count": null,
   "metadata": {},
   "outputs": [],
   "source": []
  }
 ],
 "metadata": {
  "kernelspec": {
   "display_name": "qcHack",
   "language": "python",
   "name": "qchack"
  },
  "language_info": {
   "codemirror_mode": {
    "name": "ipython",
    "version": 3
   },
   "file_extension": ".py",
   "mimetype": "text/x-python",
   "name": "python",
   "nbconvert_exporter": "python",
   "pygments_lexer": "ipython3",
   "version": "3.8.6"
  },
  "varInspector": {
   "cols": {
    "lenName": 16,
    "lenType": 16,
    "lenVar": 40
   },
   "kernels_config": {
    "python": {
     "delete_cmd_postfix": "",
     "delete_cmd_prefix": "del ",
     "library": "var_list.py",
     "varRefreshCmd": "print(var_dic_list())"
    },
    "r": {
     "delete_cmd_postfix": ") ",
     "delete_cmd_prefix": "rm(",
     "library": "var_list.r",
     "varRefreshCmd": "cat(var_dic_list()) "
    }
   },
   "position": {
    "height": "466px",
    "left": "1550px",
    "right": "20px",
    "top": "120px",
    "width": "350px"
   },
   "types_to_exclude": [
    "module",
    "function",
    "builtin_function_or_method",
    "instance",
    "_Feature"
   ],
   "window_display": false
  }
 },
 "nbformat": 4,
 "nbformat_minor": 4
}
