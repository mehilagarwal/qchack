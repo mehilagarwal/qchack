{
 "cells": [
  {
   "cell_type": "code",
   "execution_count": 70,
   "id": "future-oxygen",
   "metadata": {},
   "outputs": [],
   "source": [
    "import fractions\n",
    "import math\n",
    "import random\n",
    "\n",
    "import numpy as np\n",
    "import sympy as sp\n",
    "import cirq"
   ]
  },
  {
   "cell_type": "code",
   "execution_count": 75,
   "id": "specialized-virgin",
   "metadata": {},
   "outputs": [
    {
     "name": "stdout",
     "output_type": "stream",
     "text": [
      "The multiplicative group modulo n = is: [1, 2, 3, 4, 5, 6, 7, 8, 9, 10, 11, 12, 13, 14, 15, 16, 17, 18, 19, 20, 21, 22, 23, 24, 25, 26, 27, 28, 29, 30, 31, 32, 33, 34, 35, 36, 37, 38, 39, 40, 41, 42, 43, 44, 45, 46, 47, 48, 49, 50, 51, 52, 53, 54, 55, 56, 57, 58, 59, 60, 61, 62, 63, 64, 65, 66, 67, 68, 69, 70, 71, 72, 73, 74, 75, 76, 77, 78, 79, 80, 81, 82, 83, 84, 85, 86, 87, 88]\n"
     ]
    }
   ],
   "source": [
    "#elements of Z_n\n",
    "def Z_n(n: int) -> List[int]:\n",
    "    assert n > 1\n",
    "    modd = [1]\n",
    "    for x in range(2, n):\n",
    "        if math.gcd(x, n) == 1:\n",
    "            modd.append(x)\n",
    "    return modd\n",
    "\n",
    "n = 89\n",
    "print(\"The multiplicative group modulo n = is:\", Z_n(n))"
   ]
  },
  {
   "cell_type": "code",
   "execution_count": 83,
   "id": "experienced-glory",
   "metadata": {},
   "outputs": [
    {
     "name": "stdout",
     "output_type": "stream",
     "text": [
      "8\n"
     ]
    }
   ],
   "source": [
    "#Computing the order of an element of Z_n, classsically\n",
    "def classical(x: int, n: int) -> Optional[int]:\n",
    "    if x < 2 or x >= n or math.gcd(x, n) > 1:\n",
    "        raise ValueError(f\"Invalid x={x} for modulus n={n}.\")\n",
    "    \n",
    "    # Find order.\n",
    "    p, q = 1, x\n",
    "    while q != 1:\n",
    "        q = (x * q) % n\n",
    "        p += 1\n",
    "    return p\n",
    "\n",
    "n = 89\n",
    "x = 12\n",
    "p = classical(x, n)\n",
    "print(p)"
   ]
  },
  {
   "cell_type": "code",
   "execution_count": 39,
   "id": "consecutive-marriage",
   "metadata": {},
   "outputs": [],
   "source": [
    "#computing the order of an element of Z_n, using quantum approach\n",
    "def quantum(x: int, n: int) -> Optional[int]:\n",
    "    if x < 2 or n <= x or math.gcd(x, n) > 1:\n",
    "        raise ValueError(f'Invalid x={x} for modulus n={n}.')"
   ]
  },
  {
   "cell_type": "code",
   "execution_count": 86,
   "id": "circular-uncle",
   "metadata": {},
   "outputs": [],
   "source": [
    "\"\"\"Functions for factoring from start to finish.\"\"\"\n",
    "def find_factor_of_prime_power(n: int) -> Optional[int]:\n",
    "    for k in range(2, math.floor(math.log2(n)) + 1):\n",
    "        c = math.pow(n, 1 / k)\n",
    "        c1 = math.floor(c)\n",
    "        if c1**k == n:\n",
    "            return c1\n",
    "        c2 = math.ceil(c)\n",
    "        if c2**k == n:\n",
    "            return c2\n",
    "    return None\n",
    "\n",
    "def find_factor(\n",
    "    n: int,\n",
    "    order_finder: Callable[[int, int], Optional[int]] = quantum,\n",
    "    max_attempts: int = 30\n",
    ") -> Optional[int]:\n",
    "   \n",
    "    if sp.isprime(n):\n",
    "        print(\"n is prime!\")\n",
    "        return None\n",
    "    \n",
    "    if n % 2 == 0:\n",
    "        return 2\n",
    "    \n",
    "    c = find_factor_of_prime_power(n)\n",
    "    if c is not None:\n",
    "        return c\n",
    "    \n",
    "    for _ in range(max_attempts):\n",
    "        x = random.randint(2, n - 1)\n",
    "        c = math.gcd(x, n)\n",
    "        if 1 < c < n:\n",
    "            return c\n",
    "        \n",
    "        # Compute the order r of x modulo n using the order finder.\n",
    "        r = order_finder(x, n)\n",
    "        if r is None:\n",
    "            continue\n",
    "        if r % 2 != 0:\n",
    "            continue\n",
    "        y = x**(r // 2) % n\n",
    "        assert 1 < y < n\n",
    "        c = math.gcd(y - 1, n)\n",
    "        if 1 < c < n:\n",
    "            return c\n",
    "    return None"
   ]
  },
  {
   "cell_type": "code",
   "execution_count": 111,
   "id": "upper-technique",
   "metadata": {},
   "outputs": [
    {
     "name": "stdout",
     "output_type": "stream",
     "text": [
      "Factoring n = pq = 99999999999999999999999999999999999999999999999999999999999999999999999999999999999999999999999999999999999999999999999999999999999999999999999999999999999999999999999999999999999999999999999999999999999999999999999999999999999999\n",
      "p = 3\n",
      "q = 33333333333333333333333333333333333333333333333333333333333333333333333333333333333333333333333333333333333333333333333333333333333333333333333333333333333333333333333333333333333333333333333333333333333333333333333333333333333333\n"
     ]
    }
   ],
   "source": [
    "# Number to factor: a very huge number\n",
    "n = 99999999999999999999999999999999999999999999999999999999999999999999999999999999999999999999999999999999999999999999999999999999999999999999999999999999999999999999999999999999999999999999999999999999999999999999999999999999999999\n",
    "z = find_factor(n, order_finder=quantum)\n",
    "y = n // z\n",
    "\n",
    "print(\"Factoring n = pq =\", n)\n",
    "print(\"p =\", z)\n",
    "print(\"q =\", y)"
   ]
  },
  {
   "cell_type": "code",
   "execution_count": 95,
   "id": "competitive-treaty",
   "metadata": {},
   "outputs": [
    {
     "data": {
      "text/plain": [
       "True"
      ]
     },
     "execution_count": 95,
     "metadata": {},
     "output_type": "execute_result"
    }
   ],
   "source": [
    "\"\"\"Check the answer is correct.\"\"\"\n",
    "z * y == n"
   ]
  },
  {
   "cell_type": "code",
   "execution_count": null,
   "id": "rapid-olive",
   "metadata": {},
   "outputs": [],
   "source": []
  }
 ],
 "metadata": {
  "kernelspec": {
   "display_name": "Python 3",
   "language": "python",
   "name": "python3"
  },
  "language_info": {
   "codemirror_mode": {
    "name": "ipython",
    "version": 3
   },
   "file_extension": ".py",
   "mimetype": "text/x-python",
   "name": "python",
   "nbconvert_exporter": "python",
   "pygments_lexer": "ipython3",
   "version": "3.7.6"
  }
 },
 "nbformat": 4,
 "nbformat_minor": 5
}
