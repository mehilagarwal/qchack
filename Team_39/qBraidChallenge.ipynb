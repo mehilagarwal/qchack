{
 "cells": [
  {
   "cell_type": "code",
   "execution_count": 1,
   "id": "joint-consequence",
   "metadata": {},
   "outputs": [
    {
     "name": "stderr",
     "output_type": "stream",
     "text": [
      "configrc.store_credentials:WARNING:2021-04-11 09:01:44,417: Credentials already present. Set overwrite=True to overwrite.\n"
     ]
    },
    {
     "data": {
      "text/plain": [
       "<AccountProvider for IBMQ(hub='ibm-q', group='open', project='main')>"
      ]
     },
     "execution_count": 1,
     "metadata": {},
     "output_type": "execute_result"
    }
   ],
   "source": [
    "from qiskit import IBMQ\n",
    "### Paste in the quotes of my_token \n",
    "my_token = 'f6e1a670305c0877868462d27d0c02e7231c98b6a5ce2ae2e93a705d6db973ce5fbcdf56007a61689d2d0ab6c2149b67cbc71966a35146d9796a7dca3fb7a213'\n",
    "IBMQ.save_account(my_token)\n",
    "\n",
    "IBMQ.load_account()"
   ]
  },
  {
   "cell_type": "markdown",
   "id": "primary-legend",
   "metadata": {},
   "source": [
    "My Idea is to generate two random numbers and perform some operations to form a large number on which I will apply Shor's Algorithm inorder to factorize it"
   ]
  },
  {
   "cell_type": "code",
   "execution_count": 2,
   "id": "sound-swing",
   "metadata": {},
   "outputs": [
    {
     "name": "stdout",
     "output_type": "stream",
     "text": [
      "9\n"
     ]
    }
   ],
   "source": [
    "import random\n",
    "a = random.getrandbits(39)\n",
    "b = random.getrandbits(39)\n",
    "#print(a)\n",
    "#print(b)\n",
    "c = a + b\n",
    "d = abs(a - b)\n",
    "c = c * d\n",
    "c = c + a * b\n",
    "if(c % 2 == 0):\n",
    "    c -= 1\n",
    "print(c)"
   ]
  },
  {
   "cell_type": "code",
   "execution_count": 3,
   "id": "invisible-birmingham",
   "metadata": {},
   "outputs": [],
   "source": [
    "from qiskit.aqua import QuantumInstance\n",
    "from qiskit.aqua.algorithms import Shor"
   ]
  },
  {
   "cell_type": "code",
   "execution_count": 4,
   "id": "threaded-invalid",
   "metadata": {},
   "outputs": [],
   "source": [
    "provider = IBMQ.get_provider(group=\"open\", project=\"main\")\n",
    "backend = provider.get_backend(\"simulator_stabilizer\")\n",
    "factors = Shor(c)\n",
    "result_dict = factors.run(QuantumInstance(backend, shots=39, skip_qobj_validation=False))\n",
    "result = result_dict['factors']"
   ]
  },
  {
   "cell_type": "code",
   "execution_count": 5,
   "id": "expected-soccer",
   "metadata": {},
   "outputs": [
    {
     "name": "stdout",
     "output_type": "stream",
     "text": [
      "The factors of 9 are:\n",
      "3\n"
     ]
    }
   ],
   "source": [
    "print(\"The factors of\", c, \"are:\")\n",
    "if(len(result) == 0):\n",
    "    print(\"It have 0 factors as it's prime.\")\n",
    "else:\n",
    "    print(*result)"
   ]
  },
  {
   "cell_type": "code",
   "execution_count": null,
   "id": "handed-cycling",
   "metadata": {},
   "outputs": [],
   "source": []
  }
 ],
 "metadata": {
  "kernelspec": {
   "display_name": "Python 3",
   "language": "python",
   "name": "python3"
  },
  "language_info": {
   "codemirror_mode": {
    "name": "ipython",
    "version": 3
   },
   "file_extension": ".py",
   "mimetype": "text/x-python",
   "name": "python",
   "nbconvert_exporter": "python",
   "pygments_lexer": "ipython3",
   "version": "3.7.6"
  }
 },
 "nbformat": 4,
 "nbformat_minor": 5
}
