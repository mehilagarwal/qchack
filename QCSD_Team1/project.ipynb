{
 "cells": [
  {
   "cell_type": "markdown",
   "id": "satisfied-pride",
   "metadata": {},
   "source": [
    "# Shor's Algorithm to Factor Numbers up to 247"
   ]
  },
  {
   "cell_type": "markdown",
   "id": "interracial-baseline",
   "metadata": {},
   "source": [
    "### Ben Sachs, Ishaan Kavoori, Kirtan Shah, Thomas Sievert"
   ]
  },
  {
   "cell_type": "markdown",
   "id": "coordinate-drive",
   "metadata": {},
   "source": [
    "In this project we:\n",
    "- Implement the Shor's Algorithm\n",
    "- Find the factorization of a number that is the product of two primes.\n",
    "- Find factors of numbers up to 247\n",
    "\n",
    "\n",
    "Qiskit provides code to calculate the factors of 15 (3 and 5) and we\n",
    "extended this algorithm to work with numbers up to 247.\n",
    "\n",
    "## Run our code to see it in action"
   ]
  },
  {
   "cell_type": "code",
   "execution_count": null,
   "id": "incredible-weight",
   "metadata": {},
   "outputs": [],
   "source": [
    "import matplotlib.pyplot as plt\n",
    "import numpy as np\n",
    "from qiskit import QuantumCircuit, Aer, transpile, assemble\n",
    "from qiskit.visualization import plot_histogram\n",
    "from math import gcd, ceil\n",
    "from numpy.random import randint\n",
    "import pandas as pd\n",
    "from fractions import Fraction\n",
    "from math import gcd # greatest common divisor\n",
    "import random"
   ]
  },
  {
   "cell_type": "markdown",
   "id": "comprehensive-wrist",
   "metadata": {},
   "source": [
    "### Helper function to convert a value to binary represented in qubits"
   ]
  },
  {
   "cell_type": "code",
   "execution_count": null,
   "id": "present-terrorist",
   "metadata": {},
   "outputs": [],
   "source": [
    "def convertToCircuit(val):\n",
    "    # does some garbage\n",
    "    U = QuantumCircuit(4)\n",
    "    \n",
    "    if val >= 8:\n",
    "        U.x(0)\n",
    "    if val % 8 >= 4:\n",
    "        U.x(1)\n",
    "    if val % 4 >= 2:\n",
    "        U.x(2)\n",
    "    if val % 2 == 0:\n",
    "        U.x(3)\n",
    "        \n",
    "    return U"
   ]
  },
  {
   "cell_type": "markdown",
   "id": "smart-enzyme",
   "metadata": {},
   "source": [
    "### Returns a circuit (gate) that calculates a<sup>power</sup> mod n."
   ]
  },
  {
   "cell_type": "code",
   "execution_count": null,
   "id": "constant-hacker",
   "metadata": {},
   "outputs": [],
   "source": [
    "def amodn(a, n, power):\n",
    "    U = convertToCircuit(pow(a, power, n))\n",
    "    U = U.to_gate()\n",
    "    U.name = \"%i^%i mod %i\" % (a, power, n)\n",
    "    c_U = U.control()\n",
    "    return c_U"
   ]
  },
  {
   "cell_type": "markdown",
   "id": "genuine-reservoir",
   "metadata": {},
   "source": [
    "### N = number to factor, feel free to change value below (max value 247)."
   ]
  },
  {
   "cell_type": "code",
   "execution_count": 4,
   "id": "brave-hypothesis",
   "metadata": {},
   "outputs": [],
   "source": [
    "N = 247 # 19*13"
   ]
  },
  {
   "cell_type": "markdown",
   "id": "standing-slope",
   "metadata": {},
   "source": [
    "### Initialize qubit registers and randomly select initial guess."
   ]
  },
  {
   "cell_type": "code",
   "execution_count": 5,
   "id": "raising-turkey",
   "metadata": {},
   "outputs": [
    {
     "name": "stdout",
     "output_type": "stream",
     "text": [
      "Initial Guess: 14\n"
     ]
    }
   ],
   "source": [
    "# Specify variables\n",
    "n_count = 8  # number of counting qubits\n",
    "w_count = 4\n",
    "\n",
    "a = -1\n",
    "while a == -1 or gcd(a, N) != 1:\n",
    "    a = random.randint(2, int(ceil(N**0.5)))\n",
    "print(\"Initial Guess: \" + str(a))"
   ]
  },
  {
   "cell_type": "markdown",
   "id": "unsigned-quantum",
   "metadata": {},
   "source": [
    "### Apply QFT<sup>†</sup> matrix to extract period of f(x) = a<sup>x</sup> mod *N*"
   ]
  },
  {
   "cell_type": "code",
   "execution_count": 6,
   "id": "drawn-couple",
   "metadata": {},
   "outputs": [],
   "source": [
    "def qft_dagger(n):\n",
    "    \"\"\"n-qubit QFTdagger the first n qubits in circ\"\"\"\n",
    "    qc = QuantumCircuit(n)\n",
    "    # Don't forget the Swaps!\n",
    "    for qubit in range(n//2):\n",
    "        qc.swap(qubit, n-qubit-1)\n",
    "    for j in range(n):\n",
    "        for m in range(j):\n",
    "            qc.cp(-np.pi/float(2**(j-m)), m, j)\n",
    "        qc.h(j)\n",
    "    qc.name = \"QFT†\"\n",
    "    return qc"
   ]
  },
  {
   "cell_type": "markdown",
   "id": "opposite-interaction",
   "metadata": {},
   "source": [
    "### Construct the quantum circuit and draw diagram"
   ]
  },
  {
   "cell_type": "code",
   "execution_count": 7,
   "id": "outstanding-canadian",
   "metadata": {},
   "outputs": [
    {
     "data": {
      "text/html": [
       "<pre style=\"word-wrap: normal;white-space: pre;background: #fff0;line-height: 1.1;font-family: &quot;Courier New&quot;,Courier,monospace\">      ┌───┐                                                                                                                                             ┌───────┐┌─┐                     \n",
       " q_0: ┤ H ├────────■────────────────────────────────────────────────────────────────────────────────────────────────────────────────────────────────────┤0      ├┤M├─────────────────────\n",
       "      ├───┤        │                                                                                                                                    │       │└╥┘┌─┐                  \n",
       " q_1: ┤ H ├────────┼────────────────■───────────────────────────────────────────────────────────────────────────────────────────────────────────────────┤1      ├─╫─┤M├──────────────────\n",
       "      ├───┤        │                │                                                                                                                   │       │ ║ └╥┘┌─┐               \n",
       " q_2: ┤ H ├────────┼────────────────┼────────────────■──────────────────────────────────────────────────────────────────────────────────────────────────┤2      ├─╫──╫─┤M├───────────────\n",
       "      ├───┤        │                │                │                                                                                                  │       │ ║  ║ └╥┘┌─┐            \n",
       " q_3: ┤ H ├────────┼────────────────┼────────────────┼────────────────■─────────────────────────────────────────────────────────────────────────────────┤3      ├─╫──╫──╫─┤M├────────────\n",
       "      ├───┤        │                │                │                │                                                                                 │  QFT† │ ║  ║  ║ └╥┘┌─┐         \n",
       " q_4: ┤ H ├────────┼────────────────┼────────────────┼────────────────┼────────────────■────────────────────────────────────────────────────────────────┤4      ├─╫──╫──╫──╫─┤M├─────────\n",
       "      ├───┤        │                │                │                │                │                                                                │       │ ║  ║  ║  ║ └╥┘┌─┐      \n",
       " q_5: ┤ H ├────────┼────────────────┼────────────────┼────────────────┼────────────────┼─────────────────■──────────────────────────────────────────────┤5      ├─╫──╫──╫──╫──╫─┤M├──────\n",
       "      ├───┤        │                │                │                │                │                 │                                              │       │ ║  ║  ║  ║  ║ └╥┘┌─┐   \n",
       " q_6: ┤ H ├────────┼────────────────┼────────────────┼────────────────┼────────────────┼─────────────────┼─────────────────■────────────────────────────┤6      ├─╫──╫──╫──╫──╫──╫─┤M├───\n",
       "      ├───┤        │                │                │                │                │                 │                 │                            │       │ ║  ║  ║  ║  ║  ║ └╥┘┌─┐\n",
       " q_7: ┤ H ├────────┼────────────────┼────────────────┼────────────────┼────────────────┼─────────────────┼─────────────────┼──────────────────■─────────┤7      ├─╫──╫──╫──╫──╫──╫──╫─┤M├\n",
       "      └───┘┌───────┴───────┐┌───────┴───────┐┌───────┴───────┐┌───────┴───────┐┌───────┴────────┐┌───────┴────────┐┌───────┴────────┐┌────────┴────────┐└───────┘ ║  ║  ║  ║  ║  ║  ║ └╥┘\n",
       " q_8: ─────┤0              ├┤0              ├┤0              ├┤0              ├┤0               ├┤0               ├┤0               ├┤0                ├──────────╫──╫──╫──╫──╫──╫──╫──╫─\n",
       "           │               ││               ││               ││               ││                ││                ││                ││                 │          ║  ║  ║  ║  ║  ║  ║  ║ \n",
       " q_9: ─────┤1              ├┤1              ├┤1              ├┤1              ├┤1               ├┤1               ├┤1               ├┤1                ├──────────╫──╫──╫──╫──╫──╫──╫──╫─\n",
       "           │  14^1 mod 247 ││  14^2 mod 247 ││  14^4 mod 247 ││  14^8 mod 247 ││  14^16 mod 247 ││  14^32 mod 247 ││  14^64 mod 247 ││  14^128 mod 247 │          ║  ║  ║  ║  ║  ║  ║  ║ \n",
       "q_10: ─────┤2              ├┤2              ├┤2              ├┤2              ├┤2               ├┤2               ├┤2               ├┤2                ├──────────╫──╫──╫──╫──╫──╫──╫──╫─\n",
       "      ┌───┐│               ││               ││               ││               ││                ││                ││                ││                 │          ║  ║  ║  ║  ║  ║  ║  ║ \n",
       "q_11: ┤ X ├┤3              ├┤3              ├┤3              ├┤3              ├┤3               ├┤3               ├┤3               ├┤3                ├──────────╫──╫──╫──╫──╫──╫──╫──╫─\n",
       "      └───┘└───────────────┘└───────────────┘└───────────────┘└───────────────┘└────────────────┘└────────────────┘└────────────────┘└─────────────────┘          ║  ║  ║  ║  ║  ║  ║  ║ \n",
       " c: 8/════════════════════════════════════════════════════════════════════════════════════════════════════════════════════════════════════════════════════════════╩══╩══╩══╩══╩══╩══╩══╩═\n",
       "                                                                                                                                                                  0  1  2  3  4  5  6  7 </pre>"
      ],
      "text/plain": [
       "      ┌───┐                                                                                                                                             ┌───────┐┌─┐                     \n",
       " q_0: ┤ H ├────────■────────────────────────────────────────────────────────────────────────────────────────────────────────────────────────────────────┤0      ├┤M├─────────────────────\n",
       "      ├───┤        │                                                                                                                                    │       │└╥┘┌─┐                  \n",
       " q_1: ┤ H ├────────┼────────────────■───────────────────────────────────────────────────────────────────────────────────────────────────────────────────┤1      ├─╫─┤M├──────────────────\n",
       "      ├───┤        │                │                                                                                                                   │       │ ║ └╥┘┌─┐               \n",
       " q_2: ┤ H ├────────┼────────────────┼────────────────■──────────────────────────────────────────────────────────────────────────────────────────────────┤2      ├─╫──╫─┤M├───────────────\n",
       "      ├───┤        │                │                │                                                                                                  │       │ ║  ║ └╥┘┌─┐            \n",
       " q_3: ┤ H ├────────┼────────────────┼────────────────┼────────────────■─────────────────────────────────────────────────────────────────────────────────┤3      ├─╫──╫──╫─┤M├────────────\n",
       "      ├───┤        │                │                │                │                                                                                 │  QFT† │ ║  ║  ║ └╥┘┌─┐         \n",
       " q_4: ┤ H ├────────┼────────────────┼────────────────┼────────────────┼────────────────■────────────────────────────────────────────────────────────────┤4      ├─╫──╫──╫──╫─┤M├─────────\n",
       "      ├───┤        │                │                │                │                │                                                                │       │ ║  ║  ║  ║ └╥┘┌─┐      \n",
       " q_5: ┤ H ├────────┼────────────────┼────────────────┼────────────────┼────────────────┼─────────────────■──────────────────────────────────────────────┤5      ├─╫──╫──╫──╫──╫─┤M├──────\n",
       "      ├───┤        │                │                │                │                │                 │                                              │       │ ║  ║  ║  ║  ║ └╥┘┌─┐   \n",
       " q_6: ┤ H ├────────┼────────────────┼────────────────┼────────────────┼────────────────┼─────────────────┼─────────────────■────────────────────────────┤6      ├─╫──╫──╫──╫──╫──╫─┤M├───\n",
       "      ├───┤        │                │                │                │                │                 │                 │                            │       │ ║  ║  ║  ║  ║  ║ └╥┘┌─┐\n",
       " q_7: ┤ H ├────────┼────────────────┼────────────────┼────────────────┼────────────────┼─────────────────┼─────────────────┼──────────────────■─────────┤7      ├─╫──╫──╫──╫──╫──╫──╫─┤M├\n",
       "      └───┘┌───────┴───────┐┌───────┴───────┐┌───────┴───────┐┌───────┴───────┐┌───────┴────────┐┌───────┴────────┐┌───────┴────────┐┌────────┴────────┐└───────┘ ║  ║  ║  ║  ║  ║  ║ └╥┘\n",
       " q_8: ─────┤0              ├┤0              ├┤0              ├┤0              ├┤0               ├┤0               ├┤0               ├┤0                ├──────────╫──╫──╫──╫──╫──╫──╫──╫─\n",
       "           │               ││               ││               ││               ││                ││                ││                ││                 │          ║  ║  ║  ║  ║  ║  ║  ║ \n",
       " q_9: ─────┤1              ├┤1              ├┤1              ├┤1              ├┤1               ├┤1               ├┤1               ├┤1                ├──────────╫──╫──╫──╫──╫──╫──╫──╫─\n",
       "           │  14^1 mod 247 ││  14^2 mod 247 ││  14^4 mod 247 ││  14^8 mod 247 ││  14^16 mod 247 ││  14^32 mod 247 ││  14^64 mod 247 ││  14^128 mod 247 │          ║  ║  ║  ║  ║  ║  ║  ║ \n",
       "q_10: ─────┤2              ├┤2              ├┤2              ├┤2              ├┤2               ├┤2               ├┤2               ├┤2                ├──────────╫──╫──╫──╫──╫──╫──╫──╫─\n",
       "      ┌───┐│               ││               ││               ││               ││                ││                ││                ││                 │          ║  ║  ║  ║  ║  ║  ║  ║ \n",
       "q_11: ┤ X ├┤3              ├┤3              ├┤3              ├┤3              ├┤3               ├┤3               ├┤3               ├┤3                ├──────────╫──╫──╫──╫──╫──╫──╫──╫─\n",
       "      └───┘└───────────────┘└───────────────┘└───────────────┘└───────────────┘└────────────────┘└────────────────┘└────────────────┘└─────────────────┘          ║  ║  ║  ║  ║  ║  ║  ║ \n",
       " c: 8/════════════════════════════════════════════════════════════════════════════════════════════════════════════════════════════════════════════════════════════╩══╩══╩══╩══╩══╩══╩══╩═\n",
       "                                                                                                                                                                  0  1  2  3  4  5  6  7 "
      ]
     },
     "execution_count": 7,
     "metadata": {},
     "output_type": "execute_result"
    }
   ],
   "source": [
    "# Create QuantumCircuit with n_count counting qubits\n",
    "# plus 4 qubits for U to act on\n",
    "qc = QuantumCircuit(n_count + w_count, n_count)\n",
    "\n",
    "# Initialise counting qubits\n",
    "# in state |+>\n",
    "for q in range(n_count):\n",
    "    qc.h(q)\n",
    "    \n",
    "# And auxiliary register in state |1>\n",
    "qc.x(3+n_count)\n",
    "\n",
    "# Do controlled-U operations\n",
    "for q in range(n_count):\n",
    "    qc.append(amodn(a, N, 2**q), \n",
    "             [q] + [i+n_count for i in range(4)])\n",
    "\n",
    "# Do inverse-QFT\n",
    "qc.append(qft_dagger(n_count), range(n_count))\n",
    "\n",
    "# Measure circuit\n",
    "qc.measure(range(n_count), range(n_count))\n",
    "qc.draw(fold=-1)  # -1 means 'do not fold'"
   ]
  },
  {
   "cell_type": "markdown",
   "id": "surrounded-circulation",
   "metadata": {},
   "source": [
    "### Execute simulation and plot measurements of quantum circuit"
   ]
  },
  {
   "cell_type": "code",
   "execution_count": 8,
   "id": "sensitive-valuable",
   "metadata": {},
   "outputs": [
    {
     "data": {
      "image/png": "[encoded data removed]",
      "text/plain": [
       "<Figure size 504x360 with 1 Axes>"
      ]
     },
     "execution_count": 8,
     "metadata": {},
     "output_type": "execute_result"
    }
   ],
   "source": [
    "qasm_sim = Aer.get_backend('qasm_simulator')\n",
    "t_qc = transpile(qc, qasm_sim)\n",
    "qobj = assemble(t_qc)\n",
    "results = qasm_sim.run(qobj).result()\n",
    "counts = results.get_counts()\n",
    "plot_histogram(counts)"
   ]
  },
  {
   "cell_type": "markdown",
   "id": "covered-technology",
   "metadata": {},
   "source": [
    "### Print register output with computed phase"
   ]
  },
  {
   "cell_type": "code",
   "execution_count": 9,
   "id": "forbidden-turning",
   "metadata": {},
   "outputs": [
    {
     "name": "stdout",
     "output_type": "stream",
     "text": [
      "              Register Output           Phase\n",
      "0    00000000(bin) =   0(dec)    0/256 = 0.00\n",
      "1    00010010(bin) =  18(dec)   18/256 = 0.07\n",
      "2    00010011(bin) =  19(dec)   19/256 = 0.07\n",
      "3    00010100(bin) =  20(dec)   20/256 = 0.08\n",
      "4    00010101(bin) =  21(dec)   21/256 = 0.08\n",
      "..                        ...             ...\n",
      "151  11110101(bin) = 245(dec)  245/256 = 0.96\n",
      "152  11110110(bin) = 246(dec)  246/256 = 0.96\n",
      "153  11110111(bin) = 247(dec)  247/256 = 0.96\n",
      "154  11111010(bin) = 250(dec)  250/256 = 0.98\n",
      "155  11111110(bin) = 254(dec)  254/256 = 0.99\n",
      "\n",
      "[156 rows x 2 columns]\n"
     ]
    }
   ],
   "source": [
    "rows, measured_phases = [], []\n",
    "for output in counts:\n",
    "    decimal = int(output, 2)  # Convert (base 2) string to decimal\n",
    "    phase = decimal/(2**n_count)  # Find corresponding eigenvalue\n",
    "    measured_phases.append(phase)\n",
    "    # Add these values to the rows in our table:\n",
    "    rows.append([f\"{output}(bin) = {decimal:>3}(dec)\", \n",
    "                 f\"{decimal}/{2**n_count} = {phase:.2f}\"])\n",
    "# Print the rows in a table\n",
    "headers=[\"Register Output\", \"Phase\"]\n",
    "df = pd.DataFrame(rows, columns=headers)\n",
    "print(df)"
   ]
  },
  {
   "cell_type": "markdown",
   "id": "agreed-original",
   "metadata": {},
   "source": [
    "### Print guesses for \"r\" in Shor's Algorithm"
   ]
  },
  {
   "cell_type": "code",
   "execution_count": 10,
   "id": "expected-envelope",
   "metadata": {},
   "outputs": [
    {
     "name": "stdout",
     "output_type": "stream",
     "text": [
      "        Phase Fraction  Guess for r\n",
      "0    0.000000      0/1            1\n",
      "1    0.070312    9/128          128\n",
      "2    0.074219   17/229          229\n",
      "3    0.078125     5/64           64\n",
      "4    0.082031   16/195          195\n",
      "..        ...      ...          ...\n",
      "151  0.957031  156/163          163\n",
      "152  0.960938  123/128          128\n",
      "153  0.964844  192/199          199\n",
      "154  0.976562  125/128          128\n",
      "155  0.992188  127/128          128\n",
      "\n",
      "[156 rows x 3 columns]\n"
     ]
    }
   ],
   "source": [
    "rows = []\n",
    "for phase in measured_phases:\n",
    "    frac = Fraction(phase).limit_denominator(N)\n",
    "    rows.append([phase, f\"{frac.numerator}/{frac.denominator}\", frac.denominator])\n",
    "# Print as a table\n",
    "headers=[\"Phase\", \"Fraction\", \"Guess for r\"]\n",
    "df = pd.DataFrame(rows, columns=headers)\n",
    "print(df)"
   ]
  },
  {
   "cell_type": "markdown",
   "id": "incident-promotion",
   "metadata": {},
   "source": [
    "### Initialize qubit register states"
   ]
  },
  {
   "cell_type": "code",
   "execution_count": 11,
   "id": "involved-capitol",
   "metadata": {},
   "outputs": [],
   "source": [
    "def qpe_amodN(a):\n",
    "    n_count = 8\n",
    "    qc = QuantumCircuit(4+n_count, n_count)\n",
    "    for q in range(n_count):\n",
    "        qc.h(q)     # Initialise counting qubits in state |+>\n",
    "    qc.x(3+n_count) # And auxiliary register in state |1>\n",
    "    for q in range(n_count): # Do controlled-U operations\n",
    "        qc.append(amodn(a, N, 2**q), \n",
    "                 [q] + [i+n_count for i in range(4)])\n",
    "    qc.append(qft_dagger(n_count), range(n_count)) # Do inverse-QFT\n",
    "    qc.measure(range(n_count), range(n_count))\n",
    "    # Simulate Results\n",
    "    qasm_sim = Aer.get_backend('qasm_simulator')\n",
    "    # Setting memory=True below allows us to see a list of each sequential reading\n",
    "    t_qc = transpile(qc, qasm_sim)\n",
    "    obj = assemble(t_qc, shots=1)\n",
    "    result = qasm_sim.run(qobj, memory=True).result()\n",
    "    readings = result.get_memory()\n",
    "    print(\"Register Reading: \" + readings[0])\n",
    "    phase = int(readings[0],2)/(2**n_count)\n",
    "    print(\"Corresponding Phase: %f\" % phase)\n",
    "    return phase"
   ]
  },
  {
   "cell_type": "markdown",
   "id": "complicated-spencer",
   "metadata": {},
   "source": [
    "### Print register reading and computed phase (s/r), determine r"
   ]
  },
  {
   "cell_type": "code",
   "execution_count": 12,
   "id": "former-cotton",
   "metadata": {},
   "outputs": [
    {
     "name": "stdout",
     "output_type": "stream",
     "text": [
      "Register Reading: 00000000\n",
      "Corresponding Phase: 0.000000\n",
      "1\n",
      "[247, 1]\n"
     ]
    }
   ],
   "source": [
    "phase = qpe_amodN(a) # Phase = s/r\n",
    "Fraction(phase).limit_denominator(N) # Denominator should (hopefully!) tell us r\n",
    "frac = Fraction(phase).limit_denominator(N)\n",
    "s, r = frac.numerator, frac.denominator\n",
    "print(r)\n",
    "guesses = [gcd(a**(r//2)-1, N), gcd(a**(r//2)+1, N)]\n",
    "print(guesses)"
   ]
  },
  {
   "cell_type": "markdown",
   "id": "discrete-sucking",
   "metadata": {},
   "source": [
    "## Post-processing of results, scroll down to find the factors!"
   ]
  },
  {
   "cell_type": "code",
   "execution_count": 13,
   "id": "broken-throat",
   "metadata": {},
   "outputs": [
    {
     "name": "stdout",
     "output_type": "stream",
     "text": [
      "\n",
      "Attempt 1:\n",
      "Register Reading: 00011001\n",
      "Corresponding Phase: 0.097656\n",
      "Result: r = 215\n",
      "Guessed Factors: 13 and 1\n",
      "*** Non-trivial factor found: 13 ***\n",
      "----------------------\n",
      "\n",
      "Factors found!\n",
      "13, 19\n"
     ]
    }
   ],
   "source": [
    "# for a in range(2, 14):\n",
    "# a = 5\n",
    "#print(\"trying \" + str(a))\n",
    "factor_found = False\n",
    "attempt = 0\n",
    "factors = []\n",
    "while not factor_found: #and attempt <= 30:\n",
    "    attempt += 1\n",
    "    print(\"\\nAttempt %i:\" % attempt)\n",
    "    phase = qpe_amodN(a) # Phase = s/r\n",
    "    frac = Fraction(phase).limit_denominator(N) # Denominator should (hopefully!) tell us r\n",
    "    r = frac.denominator\n",
    "    print(\"Result: r = %i\" % r)\n",
    "    if phase != 0:\n",
    "        # Guesses for factors are gcd(x^{r/2} ±1 , 15)\n",
    "        guesses = [gcd(a**(r//2)-1, N), gcd(a**(r//2)+1, N)]\n",
    "        print(\"Guessed Factors: %i and %i\" % (guesses[0], guesses[1]))\n",
    "        for guess in guesses:\n",
    "            if guess not in [1,N] and (N % guess) == 0: # Check to see if guess is a factor\n",
    "                print(\"*** Non-trivial factor found: %i ***\" % guess)\n",
    "                factors.append(guess)\n",
    "                factor_found = True               \n",
    "print(\"----------------------\\n\")\n",
    "if factor_found:\n",
    "    print(\"Factors found!\")\n",
    "    print(str(int(factors[0])) + \", \" + str(int(N/factors[0])))\n",
    "else:\n",
    "    print(\"Factor not found :(\")\n"
   ]
  },
  {
   "cell_type": "code",
   "execution_count": null,
   "id": "detailed-tongue",
   "metadata": {},
   "outputs": [],
   "source": []
  },
  {
   "cell_type": "code",
   "execution_count": null,
   "id": "fallen-engagement",
   "metadata": {},
   "outputs": [],
   "source": []
  }
 ],
 "metadata": {
  "kernelspec": {
   "display_name": "Python 3",
   "language": "python",
   "name": "python3"
  },
  "language_info": {
   "codemirror_mode": {
    "name": "ipython",
    "version": 3
   },
   "file_extension": ".py",
   "mimetype": "text/x-python",
   "name": "python",
   "nbconvert_exporter": "python",
   "pygments_lexer": "ipython3",
   "version": "3.7.6"
  }
 },
 "nbformat": 4,
 "nbformat_minor": 5
}
